{
 "cells": [
  {
   "cell_type": "code",
   "execution_count": 1,
   "metadata": {},
   "outputs": [],
   "source": [
    "import numpy as np\n",
    "import pandas as pd\n",
    "\n",
    "import seaborn as sns\n",
    "import matplotlib.pyplot as plt\n",
    "%matplotlib inline"
   ]
  },
  {
   "cell_type": "code",
   "execution_count": 2,
   "metadata": {},
   "outputs": [],
   "source": [
    "df = pd.read_csv('train.csv')"
   ]
  },
  {
   "cell_type": "code",
   "execution_count": 3,
   "metadata": {},
   "outputs": [
    {
     "data": {
      "text/html": [
       "<div>\n",
       "<style scoped>\n",
       "    .dataframe tbody tr th:only-of-type {\n",
       "        vertical-align: middle;\n",
       "    }\n",
       "\n",
       "    .dataframe tbody tr th {\n",
       "        vertical-align: top;\n",
       "    }\n",
       "\n",
       "    .dataframe thead th {\n",
       "        text-align: right;\n",
       "    }\n",
       "</style>\n",
       "<table border=\"1\" class=\"dataframe\">\n",
       "  <thead>\n",
       "    <tr style=\"text-align: right;\">\n",
       "      <th></th>\n",
       "      <th>customer_ID</th>\n",
       "      <th>shopping_pt</th>\n",
       "      <th>record_type</th>\n",
       "      <th>day</th>\n",
       "      <th>time</th>\n",
       "      <th>state</th>\n",
       "      <th>location</th>\n",
       "      <th>group_size</th>\n",
       "      <th>homeowner</th>\n",
       "      <th>car_age</th>\n",
       "      <th>...</th>\n",
       "      <th>C_previous</th>\n",
       "      <th>duration_previous</th>\n",
       "      <th>A</th>\n",
       "      <th>B</th>\n",
       "      <th>C</th>\n",
       "      <th>D</th>\n",
       "      <th>E</th>\n",
       "      <th>F</th>\n",
       "      <th>G</th>\n",
       "      <th>cost</th>\n",
       "    </tr>\n",
       "  </thead>\n",
       "  <tbody>\n",
       "    <tr>\n",
       "      <th>0</th>\n",
       "      <td>10000000</td>\n",
       "      <td>1</td>\n",
       "      <td>0</td>\n",
       "      <td>0</td>\n",
       "      <td>08:35</td>\n",
       "      <td>IN</td>\n",
       "      <td>10001</td>\n",
       "      <td>2</td>\n",
       "      <td>0</td>\n",
       "      <td>2</td>\n",
       "      <td>...</td>\n",
       "      <td>1.0</td>\n",
       "      <td>2.0</td>\n",
       "      <td>1</td>\n",
       "      <td>0</td>\n",
       "      <td>2</td>\n",
       "      <td>2</td>\n",
       "      <td>1</td>\n",
       "      <td>2</td>\n",
       "      <td>2</td>\n",
       "      <td>633</td>\n",
       "    </tr>\n",
       "    <tr>\n",
       "      <th>1</th>\n",
       "      <td>10000000</td>\n",
       "      <td>2</td>\n",
       "      <td>0</td>\n",
       "      <td>0</td>\n",
       "      <td>08:38</td>\n",
       "      <td>IN</td>\n",
       "      <td>10001</td>\n",
       "      <td>2</td>\n",
       "      <td>0</td>\n",
       "      <td>2</td>\n",
       "      <td>...</td>\n",
       "      <td>1.0</td>\n",
       "      <td>2.0</td>\n",
       "      <td>1</td>\n",
       "      <td>0</td>\n",
       "      <td>2</td>\n",
       "      <td>2</td>\n",
       "      <td>1</td>\n",
       "      <td>2</td>\n",
       "      <td>1</td>\n",
       "      <td>630</td>\n",
       "    </tr>\n",
       "    <tr>\n",
       "      <th>2</th>\n",
       "      <td>10000000</td>\n",
       "      <td>3</td>\n",
       "      <td>0</td>\n",
       "      <td>0</td>\n",
       "      <td>08:38</td>\n",
       "      <td>IN</td>\n",
       "      <td>10001</td>\n",
       "      <td>2</td>\n",
       "      <td>0</td>\n",
       "      <td>2</td>\n",
       "      <td>...</td>\n",
       "      <td>1.0</td>\n",
       "      <td>2.0</td>\n",
       "      <td>1</td>\n",
       "      <td>0</td>\n",
       "      <td>2</td>\n",
       "      <td>2</td>\n",
       "      <td>1</td>\n",
       "      <td>2</td>\n",
       "      <td>1</td>\n",
       "      <td>630</td>\n",
       "    </tr>\n",
       "    <tr>\n",
       "      <th>3</th>\n",
       "      <td>10000000</td>\n",
       "      <td>4</td>\n",
       "      <td>0</td>\n",
       "      <td>0</td>\n",
       "      <td>08:39</td>\n",
       "      <td>IN</td>\n",
       "      <td>10001</td>\n",
       "      <td>2</td>\n",
       "      <td>0</td>\n",
       "      <td>2</td>\n",
       "      <td>...</td>\n",
       "      <td>1.0</td>\n",
       "      <td>2.0</td>\n",
       "      <td>1</td>\n",
       "      <td>0</td>\n",
       "      <td>2</td>\n",
       "      <td>2</td>\n",
       "      <td>1</td>\n",
       "      <td>2</td>\n",
       "      <td>1</td>\n",
       "      <td>630</td>\n",
       "    </tr>\n",
       "    <tr>\n",
       "      <th>4</th>\n",
       "      <td>10000000</td>\n",
       "      <td>5</td>\n",
       "      <td>0</td>\n",
       "      <td>0</td>\n",
       "      <td>11:55</td>\n",
       "      <td>IN</td>\n",
       "      <td>10001</td>\n",
       "      <td>2</td>\n",
       "      <td>0</td>\n",
       "      <td>2</td>\n",
       "      <td>...</td>\n",
       "      <td>1.0</td>\n",
       "      <td>2.0</td>\n",
       "      <td>1</td>\n",
       "      <td>0</td>\n",
       "      <td>2</td>\n",
       "      <td>2</td>\n",
       "      <td>1</td>\n",
       "      <td>2</td>\n",
       "      <td>1</td>\n",
       "      <td>630</td>\n",
       "    </tr>\n",
       "  </tbody>\n",
       "</table>\n",
       "<p>5 rows × 25 columns</p>\n",
       "</div>"
      ],
      "text/plain": [
       "   customer_ID  shopping_pt  record_type  day   time state  location  \\\n",
       "0     10000000            1            0    0  08:35    IN     10001   \n",
       "1     10000000            2            0    0  08:38    IN     10001   \n",
       "2     10000000            3            0    0  08:38    IN     10001   \n",
       "3     10000000            4            0    0  08:39    IN     10001   \n",
       "4     10000000            5            0    0  11:55    IN     10001   \n",
       "\n",
       "   group_size  homeowner  car_age  ... C_previous  duration_previous  A  B  C  \\\n",
       "0           2          0        2  ...        1.0                2.0  1  0  2   \n",
       "1           2          0        2  ...        1.0                2.0  1  0  2   \n",
       "2           2          0        2  ...        1.0                2.0  1  0  2   \n",
       "3           2          0        2  ...        1.0                2.0  1  0  2   \n",
       "4           2          0        2  ...        1.0                2.0  1  0  2   \n",
       "\n",
       "   D  E  F  G  cost  \n",
       "0  2  1  2  2   633  \n",
       "1  2  1  2  1   630  \n",
       "2  2  1  2  1   630  \n",
       "3  2  1  2  1   630  \n",
       "4  2  1  2  1   630  \n",
       "\n",
       "[5 rows x 25 columns]"
      ]
     },
     "execution_count": 3,
     "metadata": {},
     "output_type": "execute_result"
    }
   ],
   "source": [
    "df.head()"
   ]
  },
  {
   "cell_type": "code",
   "execution_count": 4,
   "metadata": {},
   "outputs": [
    {
     "data": {
      "text/plain": [
       "customer_ID           0.000000\n",
       "shopping_pt           0.000000\n",
       "record_type           0.000000\n",
       "day                   0.000000\n",
       "time                  0.000000\n",
       "state                 0.000000\n",
       "location              0.000000\n",
       "group_size            0.000000\n",
       "homeowner             0.000000\n",
       "car_age               0.000000\n",
       "car_value             0.230139\n",
       "risk_factor          36.139551\n",
       "age_oldest            0.000000\n",
       "age_youngest          0.000000\n",
       "married_couple        0.000000\n",
       "C_previous            2.812631\n",
       "duration_previous     2.812631\n",
       "A                     0.000000\n",
       "B                     0.000000\n",
       "C                     0.000000\n",
       "D                     0.000000\n",
       "E                     0.000000\n",
       "F                     0.000000\n",
       "G                     0.000000\n",
       "cost                  0.000000\n",
       "dtype: float64"
      ]
     },
     "execution_count": 4,
     "metadata": {},
     "output_type": "execute_result"
    }
   ],
   "source": [
    "df.isnull().sum()/len(df) * 100"
   ]
  },
  {
   "cell_type": "code",
   "execution_count": 5,
   "metadata": {},
   "outputs": [],
   "source": [
    "''' More than 36% of ur data is null'''\n",
    "df.drop(['risk_factor'],axis=1, inplace=True)\n",
    "df.drop(['time'],axis=1, inplace= True)"
   ]
  },
  {
   "cell_type": "code",
   "execution_count": 6,
   "metadata": {
    "scrolled": true
   },
   "outputs": [
    {
     "data": {
      "text/plain": [
       "e    32.957735\n",
       "f    26.637244\n",
       "d    17.012277\n",
       "g    14.754175\n",
       "h     4.355662\n",
       "c     3.129655\n",
       "i     0.541602\n",
       "b     0.210748\n",
       "a     0.170763\n",
       "Name: car_value, dtype: float64"
      ]
     },
     "execution_count": 6,
     "metadata": {},
     "output_type": "execute_result"
    }
   ],
   "source": [
    "''' We see that more than 30% has  e, so filling with e val(using mode to fill)'''\n",
    "df['car_value'].value_counts()/len(df) * 100"
   ]
  },
  {
   "cell_type": "code",
   "execution_count": 7,
   "metadata": {},
   "outputs": [],
   "source": [
    "df['car_value'] = df['car_value'].fillna('e')"
   ]
  },
  {
   "cell_type": "code",
   "execution_count": 8,
   "metadata": {},
   "outputs": [
    {
     "data": {
      "text/plain": [
       "customer_ID          0.000000\n",
       "shopping_pt          0.000000\n",
       "record_type          0.000000\n",
       "day                  0.000000\n",
       "state                0.000000\n",
       "location             0.000000\n",
       "group_size           0.000000\n",
       "homeowner            0.000000\n",
       "car_age              0.000000\n",
       "car_value            0.000000\n",
       "age_oldest           0.000000\n",
       "age_youngest         0.000000\n",
       "married_couple       0.000000\n",
       "C_previous           2.812631\n",
       "duration_previous    2.812631\n",
       "A                    0.000000\n",
       "B                    0.000000\n",
       "C                    0.000000\n",
       "D                    0.000000\n",
       "E                    0.000000\n",
       "F                    0.000000\n",
       "G                    0.000000\n",
       "cost                 0.000000\n",
       "dtype: float64"
      ]
     },
     "execution_count": 8,
     "metadata": {},
     "output_type": "execute_result"
    }
   ],
   "source": [
    "df.isnull().sum()/len(df) * 100"
   ]
  },
  {
   "cell_type": "code",
   "execution_count": 9,
   "metadata": {},
   "outputs": [],
   "source": [
    "''' 2% data na, so lets drop those rows'''\n",
    "df = df.dropna()"
   ]
  },
  {
   "cell_type": "code",
   "execution_count": 10,
   "metadata": {},
   "outputs": [
    {
     "data": {
      "text/plain": [
       "customer_ID          0.0\n",
       "shopping_pt          0.0\n",
       "record_type          0.0\n",
       "day                  0.0\n",
       "state                0.0\n",
       "location             0.0\n",
       "group_size           0.0\n",
       "homeowner            0.0\n",
       "car_age              0.0\n",
       "car_value            0.0\n",
       "age_oldest           0.0\n",
       "age_youngest         0.0\n",
       "married_couple       0.0\n",
       "C_previous           0.0\n",
       "duration_previous    0.0\n",
       "A                    0.0\n",
       "B                    0.0\n",
       "C                    0.0\n",
       "D                    0.0\n",
       "E                    0.0\n",
       "F                    0.0\n",
       "G                    0.0\n",
       "cost                 0.0\n",
       "dtype: float64"
      ]
     },
     "execution_count": 10,
     "metadata": {},
     "output_type": "execute_result"
    }
   ],
   "source": [
    "df.isnull().sum()/len(df) * 100"
   ]
  },
  {
   "cell_type": "code",
   "execution_count": 11,
   "metadata": {},
   "outputs": [
    {
     "data": {
      "text/html": [
       "<div>\n",
       "<style scoped>\n",
       "    .dataframe tbody tr th:only-of-type {\n",
       "        vertical-align: middle;\n",
       "    }\n",
       "\n",
       "    .dataframe tbody tr th {\n",
       "        vertical-align: top;\n",
       "    }\n",
       "\n",
       "    .dataframe thead th {\n",
       "        text-align: right;\n",
       "    }\n",
       "</style>\n",
       "<table border=\"1\" class=\"dataframe\">\n",
       "  <thead>\n",
       "    <tr style=\"text-align: right;\">\n",
       "      <th></th>\n",
       "      <th>customer_ID</th>\n",
       "      <th>shopping_pt</th>\n",
       "      <th>record_type</th>\n",
       "      <th>day</th>\n",
       "      <th>state</th>\n",
       "      <th>location</th>\n",
       "      <th>group_size</th>\n",
       "      <th>homeowner</th>\n",
       "      <th>car_age</th>\n",
       "      <th>car_value</th>\n",
       "      <th>...</th>\n",
       "      <th>C_previous</th>\n",
       "      <th>duration_previous</th>\n",
       "      <th>A</th>\n",
       "      <th>B</th>\n",
       "      <th>C</th>\n",
       "      <th>D</th>\n",
       "      <th>E</th>\n",
       "      <th>F</th>\n",
       "      <th>G</th>\n",
       "      <th>cost</th>\n",
       "    </tr>\n",
       "  </thead>\n",
       "  <tbody>\n",
       "    <tr>\n",
       "      <th>0</th>\n",
       "      <td>10000000</td>\n",
       "      <td>1</td>\n",
       "      <td>0</td>\n",
       "      <td>0</td>\n",
       "      <td>IN</td>\n",
       "      <td>10001</td>\n",
       "      <td>2</td>\n",
       "      <td>0</td>\n",
       "      <td>2</td>\n",
       "      <td>g</td>\n",
       "      <td>...</td>\n",
       "      <td>1.0</td>\n",
       "      <td>2.0</td>\n",
       "      <td>1</td>\n",
       "      <td>0</td>\n",
       "      <td>2</td>\n",
       "      <td>2</td>\n",
       "      <td>1</td>\n",
       "      <td>2</td>\n",
       "      <td>2</td>\n",
       "      <td>633</td>\n",
       "    </tr>\n",
       "    <tr>\n",
       "      <th>1</th>\n",
       "      <td>10000000</td>\n",
       "      <td>2</td>\n",
       "      <td>0</td>\n",
       "      <td>0</td>\n",
       "      <td>IN</td>\n",
       "      <td>10001</td>\n",
       "      <td>2</td>\n",
       "      <td>0</td>\n",
       "      <td>2</td>\n",
       "      <td>g</td>\n",
       "      <td>...</td>\n",
       "      <td>1.0</td>\n",
       "      <td>2.0</td>\n",
       "      <td>1</td>\n",
       "      <td>0</td>\n",
       "      <td>2</td>\n",
       "      <td>2</td>\n",
       "      <td>1</td>\n",
       "      <td>2</td>\n",
       "      <td>1</td>\n",
       "      <td>630</td>\n",
       "    </tr>\n",
       "    <tr>\n",
       "      <th>2</th>\n",
       "      <td>10000000</td>\n",
       "      <td>3</td>\n",
       "      <td>0</td>\n",
       "      <td>0</td>\n",
       "      <td>IN</td>\n",
       "      <td>10001</td>\n",
       "      <td>2</td>\n",
       "      <td>0</td>\n",
       "      <td>2</td>\n",
       "      <td>g</td>\n",
       "      <td>...</td>\n",
       "      <td>1.0</td>\n",
       "      <td>2.0</td>\n",
       "      <td>1</td>\n",
       "      <td>0</td>\n",
       "      <td>2</td>\n",
       "      <td>2</td>\n",
       "      <td>1</td>\n",
       "      <td>2</td>\n",
       "      <td>1</td>\n",
       "      <td>630</td>\n",
       "    </tr>\n",
       "    <tr>\n",
       "      <th>3</th>\n",
       "      <td>10000000</td>\n",
       "      <td>4</td>\n",
       "      <td>0</td>\n",
       "      <td>0</td>\n",
       "      <td>IN</td>\n",
       "      <td>10001</td>\n",
       "      <td>2</td>\n",
       "      <td>0</td>\n",
       "      <td>2</td>\n",
       "      <td>g</td>\n",
       "      <td>...</td>\n",
       "      <td>1.0</td>\n",
       "      <td>2.0</td>\n",
       "      <td>1</td>\n",
       "      <td>0</td>\n",
       "      <td>2</td>\n",
       "      <td>2</td>\n",
       "      <td>1</td>\n",
       "      <td>2</td>\n",
       "      <td>1</td>\n",
       "      <td>630</td>\n",
       "    </tr>\n",
       "    <tr>\n",
       "      <th>4</th>\n",
       "      <td>10000000</td>\n",
       "      <td>5</td>\n",
       "      <td>0</td>\n",
       "      <td>0</td>\n",
       "      <td>IN</td>\n",
       "      <td>10001</td>\n",
       "      <td>2</td>\n",
       "      <td>0</td>\n",
       "      <td>2</td>\n",
       "      <td>g</td>\n",
       "      <td>...</td>\n",
       "      <td>1.0</td>\n",
       "      <td>2.0</td>\n",
       "      <td>1</td>\n",
       "      <td>0</td>\n",
       "      <td>2</td>\n",
       "      <td>2</td>\n",
       "      <td>1</td>\n",
       "      <td>2</td>\n",
       "      <td>1</td>\n",
       "      <td>630</td>\n",
       "    </tr>\n",
       "  </tbody>\n",
       "</table>\n",
       "<p>5 rows × 23 columns</p>\n",
       "</div>"
      ],
      "text/plain": [
       "   customer_ID  shopping_pt  record_type  day state  location  group_size  \\\n",
       "0     10000000            1            0    0    IN     10001           2   \n",
       "1     10000000            2            0    0    IN     10001           2   \n",
       "2     10000000            3            0    0    IN     10001           2   \n",
       "3     10000000            4            0    0    IN     10001           2   \n",
       "4     10000000            5            0    0    IN     10001           2   \n",
       "\n",
       "   homeowner  car_age car_value  ...  C_previous  duration_previous  A  B  C  \\\n",
       "0          0        2         g  ...         1.0                2.0  1  0  2   \n",
       "1          0        2         g  ...         1.0                2.0  1  0  2   \n",
       "2          0        2         g  ...         1.0                2.0  1  0  2   \n",
       "3          0        2         g  ...         1.0                2.0  1  0  2   \n",
       "4          0        2         g  ...         1.0                2.0  1  0  2   \n",
       "\n",
       "   D  E  F  G  cost  \n",
       "0  2  1  2  2   633  \n",
       "1  2  1  2  1   630  \n",
       "2  2  1  2  1   630  \n",
       "3  2  1  2  1   630  \n",
       "4  2  1  2  1   630  \n",
       "\n",
       "[5 rows x 23 columns]"
      ]
     },
     "execution_count": 11,
     "metadata": {},
     "output_type": "execute_result"
    }
   ],
   "source": [
    "df.head()"
   ]
  },
  {
   "cell_type": "code",
   "execution_count": 12,
   "metadata": {},
   "outputs": [
    {
     "data": {
      "text/plain": [
       "<matplotlib.axes._subplots.AxesSubplot at 0x7f691f0bef60>"
      ]
     },
     "execution_count": 12,
     "metadata": {},
     "output_type": "execute_result"
    },
    {
     "data": {
      "image/png": "[encoded data removed]",
      "text/plain": [
       "<Figure size 720x720 with 2 Axes>"
      ]
     },
     "metadata": {
      "needs_background": "light"
     },
     "output_type": "display_data"
    }
   ],
   "source": [
    "plt.figure(figsize=(10,10))\n",
    "sns.heatmap(df.corr())"
   ]
  },
  {
   "cell_type": "code",
   "execution_count": 13,
   "metadata": {},
   "outputs": [
    {
     "data": {
      "text/html": [
       "<div>\n",
       "<style scoped>\n",
       "    .dataframe tbody tr th:only-of-type {\n",
       "        vertical-align: middle;\n",
       "    }\n",
       "\n",
       "    .dataframe tbody tr th {\n",
       "        vertical-align: top;\n",
       "    }\n",
       "\n",
       "    .dataframe thead th {\n",
       "        text-align: right;\n",
       "    }\n",
       "</style>\n",
       "<table border=\"1\" class=\"dataframe\">\n",
       "  <thead>\n",
       "    <tr style=\"text-align: right;\">\n",
       "      <th></th>\n",
       "      <th>customer_ID</th>\n",
       "      <th>shopping_pt</th>\n",
       "      <th>record_type</th>\n",
       "      <th>day</th>\n",
       "      <th>location</th>\n",
       "      <th>group_size</th>\n",
       "      <th>homeowner</th>\n",
       "      <th>car_age</th>\n",
       "      <th>age_oldest</th>\n",
       "      <th>age_youngest</th>\n",
       "      <th>...</th>\n",
       "      <th>C_previous</th>\n",
       "      <th>duration_previous</th>\n",
       "      <th>A</th>\n",
       "      <th>B</th>\n",
       "      <th>C</th>\n",
       "      <th>D</th>\n",
       "      <th>E</th>\n",
       "      <th>F</th>\n",
       "      <th>G</th>\n",
       "      <th>cost</th>\n",
       "    </tr>\n",
       "  </thead>\n",
       "  <tbody>\n",
       "    <tr>\n",
       "      <th>customer_ID</th>\n",
       "      <td>1.000000</td>\n",
       "      <td>0.000382</td>\n",
       "      <td>-0.000003</td>\n",
       "      <td>0.002111</td>\n",
       "      <td>0.049266</td>\n",
       "      <td>0.005742</td>\n",
       "      <td>0.000788</td>\n",
       "      <td>-0.002806</td>\n",
       "      <td>0.002786</td>\n",
       "      <td>0.000226</td>\n",
       "      <td>...</td>\n",
       "      <td>-0.004146</td>\n",
       "      <td>-0.000737</td>\n",
       "      <td>-0.001630</td>\n",
       "      <td>-0.002769</td>\n",
       "      <td>0.000350</td>\n",
       "      <td>-0.000116</td>\n",
       "      <td>-0.002897</td>\n",
       "      <td>-0.001346</td>\n",
       "      <td>0.002144</td>\n",
       "      <td>-0.001794</td>\n",
       "    </tr>\n",
       "    <tr>\n",
       "      <th>shopping_pt</th>\n",
       "      <td>0.000382</td>\n",
       "      <td>1.000000</td>\n",
       "      <td>0.454500</td>\n",
       "      <td>0.012892</td>\n",
       "      <td>0.001324</td>\n",
       "      <td>0.011919</td>\n",
       "      <td>-0.023694</td>\n",
       "      <td>-0.019796</td>\n",
       "      <td>-0.006037</td>\n",
       "      <td>-0.012476</td>\n",
       "      <td>...</td>\n",
       "      <td>-0.002259</td>\n",
       "      <td>-0.004659</td>\n",
       "      <td>0.047411</td>\n",
       "      <td>0.042779</td>\n",
       "      <td>-0.005089</td>\n",
       "      <td>0.059280</td>\n",
       "      <td>0.038064</td>\n",
       "      <td>0.037600</td>\n",
       "      <td>-0.025995</td>\n",
       "      <td>0.047738</td>\n",
       "    </tr>\n",
       "    <tr>\n",
       "      <th>record_type</th>\n",
       "      <td>-0.000003</td>\n",
       "      <td>0.454500</td>\n",
       "      <td>1.000000</td>\n",
       "      <td>0.032613</td>\n",
       "      <td>0.001144</td>\n",
       "      <td>0.000322</td>\n",
       "      <td>0.006616</td>\n",
       "      <td>0.003825</td>\n",
       "      <td>0.003282</td>\n",
       "      <td>0.001391</td>\n",
       "      <td>...</td>\n",
       "      <td>0.003744</td>\n",
       "      <td>0.007947</td>\n",
       "      <td>0.009838</td>\n",
       "      <td>0.015911</td>\n",
       "      <td>0.003869</td>\n",
       "      <td>0.029297</td>\n",
       "      <td>0.011938</td>\n",
       "      <td>0.000207</td>\n",
       "      <td>0.000231</td>\n",
       "      <td>-0.009105</td>\n",
       "    </tr>\n",
       "    <tr>\n",
       "      <th>day</th>\n",
       "      <td>0.002111</td>\n",
       "      <td>0.012892</td>\n",
       "      <td>0.032613</td>\n",
       "      <td>1.000000</td>\n",
       "      <td>-0.010529</td>\n",
       "      <td>-0.001130</td>\n",
       "      <td>-0.005988</td>\n",
       "      <td>0.003322</td>\n",
       "      <td>-0.020996</td>\n",
       "      <td>-0.023304</td>\n",
       "      <td>...</td>\n",
       "      <td>-0.010852</td>\n",
       "      <td>-0.006710</td>\n",
       "      <td>-0.001831</td>\n",
       "      <td>0.001165</td>\n",
       "      <td>-0.012612</td>\n",
       "      <td>-0.007596</td>\n",
       "      <td>-0.004623</td>\n",
       "      <td>-0.006563</td>\n",
       "      <td>-0.009254</td>\n",
       "      <td>0.011255</td>\n",
       "    </tr>\n",
       "    <tr>\n",
       "      <th>location</th>\n",
       "      <td>0.049266</td>\n",
       "      <td>0.001324</td>\n",
       "      <td>0.001144</td>\n",
       "      <td>-0.010529</td>\n",
       "      <td>1.000000</td>\n",
       "      <td>-0.004397</td>\n",
       "      <td>0.000662</td>\n",
       "      <td>0.008769</td>\n",
       "      <td>-0.001403</td>\n",
       "      <td>0.000678</td>\n",
       "      <td>...</td>\n",
       "      <td>0.014698</td>\n",
       "      <td>0.016669</td>\n",
       "      <td>-0.003733</td>\n",
       "      <td>-0.008701</td>\n",
       "      <td>0.009189</td>\n",
       "      <td>-0.041956</td>\n",
       "      <td>-0.013094</td>\n",
       "      <td>-0.031841</td>\n",
       "      <td>0.029685</td>\n",
       "      <td>0.003580</td>\n",
       "    </tr>\n",
       "    <tr>\n",
       "      <th>group_size</th>\n",
       "      <td>0.005742</td>\n",
       "      <td>0.011919</td>\n",
       "      <td>0.000322</td>\n",
       "      <td>-0.001130</td>\n",
       "      <td>-0.004397</td>\n",
       "      <td>1.000000</td>\n",
       "      <td>0.203248</td>\n",
       "      <td>-0.023990</td>\n",
       "      <td>0.217094</td>\n",
       "      <td>-0.025213</td>\n",
       "      <td>...</td>\n",
       "      <td>0.079346</td>\n",
       "      <td>0.074635</td>\n",
       "      <td>0.015317</td>\n",
       "      <td>0.027036</td>\n",
       "      <td>0.087316</td>\n",
       "      <td>0.044136</td>\n",
       "      <td>0.020610</td>\n",
       "      <td>0.010010</td>\n",
       "      <td>0.047732</td>\n",
       "      <td>-0.023598</td>\n",
       "    </tr>\n",
       "    <tr>\n",
       "      <th>homeowner</th>\n",
       "      <td>0.000788</td>\n",
       "      <td>-0.023694</td>\n",
       "      <td>0.006616</td>\n",
       "      <td>-0.005988</td>\n",
       "      <td>0.000662</td>\n",
       "      <td>0.203248</td>\n",
       "      <td>1.000000</td>\n",
       "      <td>-0.050638</td>\n",
       "      <td>0.418309</td>\n",
       "      <td>0.365287</td>\n",
       "      <td>...</td>\n",
       "      <td>0.116108</td>\n",
       "      <td>0.193181</td>\n",
       "      <td>0.045356</td>\n",
       "      <td>0.031113</td>\n",
       "      <td>0.182609</td>\n",
       "      <td>0.106454</td>\n",
       "      <td>0.077328</td>\n",
       "      <td>0.030310</td>\n",
       "      <td>0.093928</td>\n",
       "      <td>-0.215971</td>\n",
       "    </tr>\n",
       "    <tr>\n",
       "      <th>car_age</th>\n",
       "      <td>-0.002806</td>\n",
       "      <td>-0.019796</td>\n",
       "      <td>0.003825</td>\n",
       "      <td>0.003322</td>\n",
       "      <td>0.008769</td>\n",
       "      <td>-0.023990</td>\n",
       "      <td>-0.050638</td>\n",
       "      <td>1.000000</td>\n",
       "      <td>0.011720</td>\n",
       "      <td>0.007748</td>\n",
       "      <td>...</td>\n",
       "      <td>-0.139923</td>\n",
       "      <td>-0.037537</td>\n",
       "      <td>-0.437574</td>\n",
       "      <td>-0.087369</td>\n",
       "      <td>-0.166578</td>\n",
       "      <td>-0.137499</td>\n",
       "      <td>-0.277333</td>\n",
       "      <td>-0.247200</td>\n",
       "      <td>-0.083614</td>\n",
       "      <td>-0.286933</td>\n",
       "    </tr>\n",
       "    <tr>\n",
       "      <th>age_oldest</th>\n",
       "      <td>0.002786</td>\n",
       "      <td>-0.006037</td>\n",
       "      <td>0.003282</td>\n",
       "      <td>-0.020996</td>\n",
       "      <td>-0.001403</td>\n",
       "      <td>0.217094</td>\n",
       "      <td>0.418309</td>\n",
       "      <td>0.011720</td>\n",
       "      <td>1.000000</td>\n",
       "      <td>0.913263</td>\n",
       "      <td>...</td>\n",
       "      <td>0.078344</td>\n",
       "      <td>0.288918</td>\n",
       "      <td>0.001753</td>\n",
       "      <td>0.023079</td>\n",
       "      <td>0.156537</td>\n",
       "      <td>0.082427</td>\n",
       "      <td>0.098290</td>\n",
       "      <td>-0.012733</td>\n",
       "      <td>0.142720</td>\n",
       "      <td>-0.211332</td>\n",
       "    </tr>\n",
       "    <tr>\n",
       "      <th>age_youngest</th>\n",
       "      <td>0.000226</td>\n",
       "      <td>-0.012476</td>\n",
       "      <td>0.001391</td>\n",
       "      <td>-0.023304</td>\n",
       "      <td>0.000678</td>\n",
       "      <td>-0.025213</td>\n",
       "      <td>0.365287</td>\n",
       "      <td>0.007748</td>\n",
       "      <td>0.913263</td>\n",
       "      <td>1.000000</td>\n",
       "      <td>...</td>\n",
       "      <td>0.071151</td>\n",
       "      <td>0.259316</td>\n",
       "      <td>0.003312</td>\n",
       "      <td>0.015798</td>\n",
       "      <td>0.150080</td>\n",
       "      <td>0.081143</td>\n",
       "      <td>0.097478</td>\n",
       "      <td>-0.007791</td>\n",
       "      <td>0.134393</td>\n",
       "      <td>-0.240513</td>\n",
       "    </tr>\n",
       "    <tr>\n",
       "      <th>married_couple</th>\n",
       "      <td>0.000846</td>\n",
       "      <td>0.011911</td>\n",
       "      <td>0.001466</td>\n",
       "      <td>-0.001070</td>\n",
       "      <td>-0.003262</td>\n",
       "      <td>0.773835</td>\n",
       "      <td>0.199273</td>\n",
       "      <td>-0.034728</td>\n",
       "      <td>0.228886</td>\n",
       "      <td>0.111697</td>\n",
       "      <td>...</td>\n",
       "      <td>0.067941</td>\n",
       "      <td>0.061029</td>\n",
       "      <td>0.021195</td>\n",
       "      <td>0.020164</td>\n",
       "      <td>0.091958</td>\n",
       "      <td>0.047753</td>\n",
       "      <td>0.031788</td>\n",
       "      <td>-0.000881</td>\n",
       "      <td>0.045637</td>\n",
       "      <td>-0.075901</td>\n",
       "    </tr>\n",
       "    <tr>\n",
       "      <th>C_previous</th>\n",
       "      <td>-0.004146</td>\n",
       "      <td>-0.002259</td>\n",
       "      <td>0.003744</td>\n",
       "      <td>-0.010852</td>\n",
       "      <td>0.014698</td>\n",
       "      <td>0.079346</td>\n",
       "      <td>0.116108</td>\n",
       "      <td>-0.139923</td>\n",
       "      <td>0.078344</td>\n",
       "      <td>0.071151</td>\n",
       "      <td>...</td>\n",
       "      <td>1.000000</td>\n",
       "      <td>0.145661</td>\n",
       "      <td>0.123160</td>\n",
       "      <td>0.033384</td>\n",
       "      <td>0.654217</td>\n",
       "      <td>0.411490</td>\n",
       "      <td>0.111482</td>\n",
       "      <td>-0.033508</td>\n",
       "      <td>0.099414</td>\n",
       "      <td>-0.084393</td>\n",
       "    </tr>\n",
       "    <tr>\n",
       "      <th>duration_previous</th>\n",
       "      <td>-0.000737</td>\n",
       "      <td>-0.004659</td>\n",
       "      <td>0.007947</td>\n",
       "      <td>-0.006710</td>\n",
       "      <td>0.016669</td>\n",
       "      <td>0.074635</td>\n",
       "      <td>0.193181</td>\n",
       "      <td>-0.037537</td>\n",
       "      <td>0.288918</td>\n",
       "      <td>0.259316</td>\n",
       "      <td>...</td>\n",
       "      <td>0.145661</td>\n",
       "      <td>1.000000</td>\n",
       "      <td>0.030471</td>\n",
       "      <td>0.006563</td>\n",
       "      <td>0.155519</td>\n",
       "      <td>0.103054</td>\n",
       "      <td>0.075439</td>\n",
       "      <td>-0.015969</td>\n",
       "      <td>0.153097</td>\n",
       "      <td>-0.165836</td>\n",
       "    </tr>\n",
       "    <tr>\n",
       "      <th>A</th>\n",
       "      <td>-0.001630</td>\n",
       "      <td>0.047411</td>\n",
       "      <td>0.009838</td>\n",
       "      <td>-0.001831</td>\n",
       "      <td>-0.003733</td>\n",
       "      <td>0.015317</td>\n",
       "      <td>0.045356</td>\n",
       "      <td>-0.437574</td>\n",
       "      <td>0.001753</td>\n",
       "      <td>0.003312</td>\n",
       "      <td>...</td>\n",
       "      <td>0.123160</td>\n",
       "      <td>0.030471</td>\n",
       "      <td>1.000000</td>\n",
       "      <td>0.153159</td>\n",
       "      <td>0.184980</td>\n",
       "      <td>0.181958</td>\n",
       "      <td>0.321064</td>\n",
       "      <td>0.524412</td>\n",
       "      <td>0.043571</td>\n",
       "      <td>0.326623</td>\n",
       "    </tr>\n",
       "    <tr>\n",
       "      <th>B</th>\n",
       "      <td>-0.002769</td>\n",
       "      <td>0.042779</td>\n",
       "      <td>0.015911</td>\n",
       "      <td>0.001165</td>\n",
       "      <td>-0.008701</td>\n",
       "      <td>0.027036</td>\n",
       "      <td>0.031113</td>\n",
       "      <td>-0.087369</td>\n",
       "      <td>0.023079</td>\n",
       "      <td>0.015798</td>\n",
       "      <td>...</td>\n",
       "      <td>0.033384</td>\n",
       "      <td>0.006563</td>\n",
       "      <td>0.153159</td>\n",
       "      <td>1.000000</td>\n",
       "      <td>0.088894</td>\n",
       "      <td>0.115664</td>\n",
       "      <td>0.458071</td>\n",
       "      <td>0.124696</td>\n",
       "      <td>0.021961</td>\n",
       "      <td>0.122248</td>\n",
       "    </tr>\n",
       "    <tr>\n",
       "      <th>C</th>\n",
       "      <td>0.000350</td>\n",
       "      <td>-0.005089</td>\n",
       "      <td>0.003869</td>\n",
       "      <td>-0.012612</td>\n",
       "      <td>0.009189</td>\n",
       "      <td>0.087316</td>\n",
       "      <td>0.182609</td>\n",
       "      <td>-0.166578</td>\n",
       "      <td>0.156537</td>\n",
       "      <td>0.150080</td>\n",
       "      <td>...</td>\n",
       "      <td>0.654217</td>\n",
       "      <td>0.155519</td>\n",
       "      <td>0.184980</td>\n",
       "      <td>0.088894</td>\n",
       "      <td>1.000000</td>\n",
       "      <td>0.634728</td>\n",
       "      <td>0.191304</td>\n",
       "      <td>-0.017376</td>\n",
       "      <td>0.106103</td>\n",
       "      <td>-0.032535</td>\n",
       "    </tr>\n",
       "    <tr>\n",
       "      <th>D</th>\n",
       "      <td>-0.000116</td>\n",
       "      <td>0.059280</td>\n",
       "      <td>0.029297</td>\n",
       "      <td>-0.007596</td>\n",
       "      <td>-0.041956</td>\n",
       "      <td>0.044136</td>\n",
       "      <td>0.106454</td>\n",
       "      <td>-0.137499</td>\n",
       "      <td>0.082427</td>\n",
       "      <td>0.081143</td>\n",
       "      <td>...</td>\n",
       "      <td>0.411490</td>\n",
       "      <td>0.103054</td>\n",
       "      <td>0.181958</td>\n",
       "      <td>0.115664</td>\n",
       "      <td>0.634728</td>\n",
       "      <td>1.000000</td>\n",
       "      <td>0.185887</td>\n",
       "      <td>0.023727</td>\n",
       "      <td>0.101628</td>\n",
       "      <td>0.006957</td>\n",
       "    </tr>\n",
       "    <tr>\n",
       "      <th>E</th>\n",
       "      <td>-0.002897</td>\n",
       "      <td>0.038064</td>\n",
       "      <td>0.011938</td>\n",
       "      <td>-0.004623</td>\n",
       "      <td>-0.013094</td>\n",
       "      <td>0.020610</td>\n",
       "      <td>0.077328</td>\n",
       "      <td>-0.277333</td>\n",
       "      <td>0.098290</td>\n",
       "      <td>0.097478</td>\n",
       "      <td>...</td>\n",
       "      <td>0.111482</td>\n",
       "      <td>0.075439</td>\n",
       "      <td>0.321064</td>\n",
       "      <td>0.458071</td>\n",
       "      <td>0.191304</td>\n",
       "      <td>0.185887</td>\n",
       "      <td>1.000000</td>\n",
       "      <td>0.155894</td>\n",
       "      <td>0.100251</td>\n",
       "      <td>0.265937</td>\n",
       "    </tr>\n",
       "    <tr>\n",
       "      <th>F</th>\n",
       "      <td>-0.001346</td>\n",
       "      <td>0.037600</td>\n",
       "      <td>0.000207</td>\n",
       "      <td>-0.006563</td>\n",
       "      <td>-0.031841</td>\n",
       "      <td>0.010010</td>\n",
       "      <td>0.030310</td>\n",
       "      <td>-0.247200</td>\n",
       "      <td>-0.012733</td>\n",
       "      <td>-0.007791</td>\n",
       "      <td>...</td>\n",
       "      <td>-0.033508</td>\n",
       "      <td>-0.015969</td>\n",
       "      <td>0.524412</td>\n",
       "      <td>0.124696</td>\n",
       "      <td>-0.017376</td>\n",
       "      <td>0.023727</td>\n",
       "      <td>0.155894</td>\n",
       "      <td>1.000000</td>\n",
       "      <td>0.071170</td>\n",
       "      <td>0.135777</td>\n",
       "    </tr>\n",
       "    <tr>\n",
       "      <th>G</th>\n",
       "      <td>0.002144</td>\n",
       "      <td>-0.025995</td>\n",
       "      <td>0.000231</td>\n",
       "      <td>-0.009254</td>\n",
       "      <td>0.029685</td>\n",
       "      <td>0.047732</td>\n",
       "      <td>0.093928</td>\n",
       "      <td>-0.083614</td>\n",
       "      <td>0.142720</td>\n",
       "      <td>0.134393</td>\n",
       "      <td>...</td>\n",
       "      <td>0.099414</td>\n",
       "      <td>0.153097</td>\n",
       "      <td>0.043571</td>\n",
       "      <td>0.021961</td>\n",
       "      <td>0.106103</td>\n",
       "      <td>0.101628</td>\n",
       "      <td>0.100251</td>\n",
       "      <td>0.071170</td>\n",
       "      <td>1.000000</td>\n",
       "      <td>-0.008932</td>\n",
       "    </tr>\n",
       "    <tr>\n",
       "      <th>cost</th>\n",
       "      <td>-0.001794</td>\n",
       "      <td>0.047738</td>\n",
       "      <td>-0.009105</td>\n",
       "      <td>0.011255</td>\n",
       "      <td>0.003580</td>\n",
       "      <td>-0.023598</td>\n",
       "      <td>-0.215971</td>\n",
       "      <td>-0.286933</td>\n",
       "      <td>-0.211332</td>\n",
       "      <td>-0.240513</td>\n",
       "      <td>...</td>\n",
       "      <td>-0.084393</td>\n",
       "      <td>-0.165836</td>\n",
       "      <td>0.326623</td>\n",
       "      <td>0.122248</td>\n",
       "      <td>-0.032535</td>\n",
       "      <td>0.006957</td>\n",
       "      <td>0.265937</td>\n",
       "      <td>0.135777</td>\n",
       "      <td>-0.008932</td>\n",
       "      <td>1.000000</td>\n",
       "    </tr>\n",
       "  </tbody>\n",
       "</table>\n",
       "<p>21 rows × 21 columns</p>\n",
       "</div>"
      ],
      "text/plain": [
       "                   customer_ID  shopping_pt  record_type       day  location  \\\n",
       "customer_ID           1.000000     0.000382    -0.000003  0.002111  0.049266   \n",
       "shopping_pt           0.000382     1.000000     0.454500  0.012892  0.001324   \n",
       "record_type          -0.000003     0.454500     1.000000  0.032613  0.001144   \n",
       "day                   0.002111     0.012892     0.032613  1.000000 -0.010529   \n",
       "location              0.049266     0.001324     0.001144 -0.010529  1.000000   \n",
       "group_size            0.005742     0.011919     0.000322 -0.001130 -0.004397   \n",
       "homeowner             0.000788    -0.023694     0.006616 -0.005988  0.000662   \n",
       "car_age              -0.002806    -0.019796     0.003825  0.003322  0.008769   \n",
       "age_oldest            0.002786    -0.006037     0.003282 -0.020996 -0.001403   \n",
       "age_youngest          0.000226    -0.012476     0.001391 -0.023304  0.000678   \n",
       "married_couple        0.000846     0.011911     0.001466 -0.001070 -0.003262   \n",
       "C_previous           -0.004146    -0.002259     0.003744 -0.010852  0.014698   \n",
       "duration_previous    -0.000737    -0.004659     0.007947 -0.006710  0.016669   \n",
       "A                    -0.001630     0.047411     0.009838 -0.001831 -0.003733   \n",
       "B                    -0.002769     0.042779     0.015911  0.001165 -0.008701   \n",
       "C                     0.000350    -0.005089     0.003869 -0.012612  0.009189   \n",
       "D                    -0.000116     0.059280     0.029297 -0.007596 -0.041956   \n",
       "E                    -0.002897     0.038064     0.011938 -0.004623 -0.013094   \n",
       "F                    -0.001346     0.037600     0.000207 -0.006563 -0.031841   \n",
       "G                     0.002144    -0.025995     0.000231 -0.009254  0.029685   \n",
       "cost                 -0.001794     0.047738    -0.009105  0.011255  0.003580   \n",
       "\n",
       "                   group_size  homeowner   car_age  age_oldest  age_youngest  \\\n",
       "customer_ID          0.005742   0.000788 -0.002806    0.002786      0.000226   \n",
       "shopping_pt          0.011919  -0.023694 -0.019796   -0.006037     -0.012476   \n",
       "record_type          0.000322   0.006616  0.003825    0.003282      0.001391   \n",
       "day                 -0.001130  -0.005988  0.003322   -0.020996     -0.023304   \n",
       "location            -0.004397   0.000662  0.008769   -0.001403      0.000678   \n",
       "group_size           1.000000   0.203248 -0.023990    0.217094     -0.025213   \n",
       "homeowner            0.203248   1.000000 -0.050638    0.418309      0.365287   \n",
       "car_age             -0.023990  -0.050638  1.000000    0.011720      0.007748   \n",
       "age_oldest           0.217094   0.418309  0.011720    1.000000      0.913263   \n",
       "age_youngest        -0.025213   0.365287  0.007748    0.913263      1.000000   \n",
       "married_couple       0.773835   0.199273 -0.034728    0.228886      0.111697   \n",
       "C_previous           0.079346   0.116108 -0.139923    0.078344      0.071151   \n",
       "duration_previous    0.074635   0.193181 -0.037537    0.288918      0.259316   \n",
       "A                    0.015317   0.045356 -0.437574    0.001753      0.003312   \n",
       "B                    0.027036   0.031113 -0.087369    0.023079      0.015798   \n",
       "C                    0.087316   0.182609 -0.166578    0.156537      0.150080   \n",
       "D                    0.044136   0.106454 -0.137499    0.082427      0.081143   \n",
       "E                    0.020610   0.077328 -0.277333    0.098290      0.097478   \n",
       "F                    0.010010   0.030310 -0.247200   -0.012733     -0.007791   \n",
       "G                    0.047732   0.093928 -0.083614    0.142720      0.134393   \n",
       "cost                -0.023598  -0.215971 -0.286933   -0.211332     -0.240513   \n",
       "\n",
       "                   ...  C_previous  duration_previous         A         B  \\\n",
       "customer_ID        ...   -0.004146          -0.000737 -0.001630 -0.002769   \n",
       "shopping_pt        ...   -0.002259          -0.004659  0.047411  0.042779   \n",
       "record_type        ...    0.003744           0.007947  0.009838  0.015911   \n",
       "day                ...   -0.010852          -0.006710 -0.001831  0.001165   \n",
       "location           ...    0.014698           0.016669 -0.003733 -0.008701   \n",
       "group_size         ...    0.079346           0.074635  0.015317  0.027036   \n",
       "homeowner          ...    0.116108           0.193181  0.045356  0.031113   \n",
       "car_age            ...   -0.139923          -0.037537 -0.437574 -0.087369   \n",
       "age_oldest         ...    0.078344           0.288918  0.001753  0.023079   \n",
       "age_youngest       ...    0.071151           0.259316  0.003312  0.015798   \n",
       "married_couple     ...    0.067941           0.061029  0.021195  0.020164   \n",
       "C_previous         ...    1.000000           0.145661  0.123160  0.033384   \n",
       "duration_previous  ...    0.145661           1.000000  0.030471  0.006563   \n",
       "A                  ...    0.123160           0.030471  1.000000  0.153159   \n",
       "B                  ...    0.033384           0.006563  0.153159  1.000000   \n",
       "C                  ...    0.654217           0.155519  0.184980  0.088894   \n",
       "D                  ...    0.411490           0.103054  0.181958  0.115664   \n",
       "E                  ...    0.111482           0.075439  0.321064  0.458071   \n",
       "F                  ...   -0.033508          -0.015969  0.524412  0.124696   \n",
       "G                  ...    0.099414           0.153097  0.043571  0.021961   \n",
       "cost               ...   -0.084393          -0.165836  0.326623  0.122248   \n",
       "\n",
       "                          C         D         E         F         G      cost  \n",
       "customer_ID        0.000350 -0.000116 -0.002897 -0.001346  0.002144 -0.001794  \n",
       "shopping_pt       -0.005089  0.059280  0.038064  0.037600 -0.025995  0.047738  \n",
       "record_type        0.003869  0.029297  0.011938  0.000207  0.000231 -0.009105  \n",
       "day               -0.012612 -0.007596 -0.004623 -0.006563 -0.009254  0.011255  \n",
       "location           0.009189 -0.041956 -0.013094 -0.031841  0.029685  0.003580  \n",
       "group_size         0.087316  0.044136  0.020610  0.010010  0.047732 -0.023598  \n",
       "homeowner          0.182609  0.106454  0.077328  0.030310  0.093928 -0.215971  \n",
       "car_age           -0.166578 -0.137499 -0.277333 -0.247200 -0.083614 -0.286933  \n",
       "age_oldest         0.156537  0.082427  0.098290 -0.012733  0.142720 -0.211332  \n",
       "age_youngest       0.150080  0.081143  0.097478 -0.007791  0.134393 -0.240513  \n",
       "married_couple     0.091958  0.047753  0.031788 -0.000881  0.045637 -0.075901  \n",
       "C_previous         0.654217  0.411490  0.111482 -0.033508  0.099414 -0.084393  \n",
       "duration_previous  0.155519  0.103054  0.075439 -0.015969  0.153097 -0.165836  \n",
       "A                  0.184980  0.181958  0.321064  0.524412  0.043571  0.326623  \n",
       "B                  0.088894  0.115664  0.458071  0.124696  0.021961  0.122248  \n",
       "C                  1.000000  0.634728  0.191304 -0.017376  0.106103 -0.032535  \n",
       "D                  0.634728  1.000000  0.185887  0.023727  0.101628  0.006957  \n",
       "E                  0.191304  0.185887  1.000000  0.155894  0.100251  0.265937  \n",
       "F                 -0.017376  0.023727  0.155894  1.000000  0.071170  0.135777  \n",
       "G                  0.106103  0.101628  0.100251  0.071170  1.000000 -0.008932  \n",
       "cost              -0.032535  0.006957  0.265937  0.135777 -0.008932  1.000000  \n",
       "\n",
       "[21 rows x 21 columns]"
      ]
     },
     "execution_count": 13,
     "metadata": {},
     "output_type": "execute_result"
    }
   ],
   "source": [
    "df.corr()"
   ]
  },
  {
   "cell_type": "code",
   "execution_count": 14,
   "metadata": {},
   "outputs": [
    {
     "data": {
      "text/plain": [
       "<matplotlib.axes._subplots.AxesSubplot at 0x7f6920100d68>"
      ]
     },
     "execution_count": 14,
     "metadata": {},
     "output_type": "execute_result"
    },
    {
     "data": {
      "image/png": "[encoded data removed]",
      "text/plain": [
       "<Figure size 720x720 with 1 Axes>"
      ]
     },
     "metadata": {
      "needs_background": "light"
     },
     "output_type": "display_data"
    }
   ],
   "source": [
    "plt.figure(figsize=(10,10))\n",
    "sns.countplot(x=df['age_oldest'])#df['age_youngest'])"
   ]
  },
  {
   "cell_type": "code",
   "execution_count": 15,
   "metadata": {},
   "outputs": [
    {
     "data": {
      "text/plain": [
       "<matplotlib.axes._subplots.AxesSubplot at 0x7f6901934198>"
      ]
     },
     "execution_count": 15,
     "metadata": {},
     "output_type": "execute_result"
    },
    {
     "data": {
      "image/png": "[encoded data removed]",
      "text/plain": [
       "<Figure size 720x720 with 1 Axes>"
      ]
     },
     "metadata": {
      "needs_background": "light"
     },
     "output_type": "display_data"
    }
   ],
   "source": [
    "plt.figure(figsize=(10,10))\n",
    "sns.countplot(x=df['age_youngest'])"
   ]
  },
  {
   "cell_type": "code",
   "execution_count": 16,
   "metadata": {},
   "outputs": [
    {
     "data": {
      "text/plain": [
       "<matplotlib.axes._subplots.AxesSubplot at 0x7f6901786b00>"
      ]
     },
     "execution_count": 16,
     "metadata": {},
     "output_type": "execute_result"
    },
    {
     "data": {
      "image/png": "[encoded data removed]",
      "text/plain": [
       "<Figure size 720x720 with 1 Axes>"
      ]
     },
     "metadata": {
      "needs_background": "light"
     },
     "output_type": "display_data"
    }
   ],
   "source": [
    "plt.figure(figsize=(10,10))\n",
    "sns.barplot(x=df['car_value'], y=df['car_age'], order=sorted(df['car_value'].unique()))"
   ]
  },
  {
   "cell_type": "code",
   "execution_count": 17,
   "metadata": {},
   "outputs": [
    {
     "data": {
      "text/plain": [
       "<matplotlib.axes._subplots.AxesSubplot at 0x7f690175ac88>"
      ]
     },
     "execution_count": 17,
     "metadata": {},
     "output_type": "execute_result"
    },
    {
     "data": {
      "image/png": "[encoded data removed]",
      "text/plain": [
       "<Figure size 432x288 with 1 Axes>"
      ]
     },
     "metadata": {
      "needs_background": "light"
     },
     "output_type": "display_data"
    }
   ],
   "source": [
    "sns.countplot(df['A'])"
   ]
  },
  {
   "cell_type": "code",
   "execution_count": 18,
   "metadata": {},
   "outputs": [
    {
     "data": {
      "text/plain": [
       "<matplotlib.axes._subplots.AxesSubplot at 0x7f690169b748>"
      ]
     },
     "execution_count": 18,
     "metadata": {},
     "output_type": "execute_result"
    },
    {
     "data": {
      "image/png": "[encoded data removed]",
      "text/plain": [
       "<Figure size 432x288 with 1 Axes>"
      ]
     },
     "metadata": {
      "needs_background": "light"
     },
     "output_type": "display_data"
    }
   ],
   "source": [
    "sns.countplot(df['B'])"
   ]
  },
  {
   "cell_type": "code",
   "execution_count": 19,
   "metadata": {},
   "outputs": [
    {
     "data": {
      "text/plain": [
       "<matplotlib.axes._subplots.AxesSubplot at 0x7f690166e8d0>"
      ]
     },
     "execution_count": 19,
     "metadata": {},
     "output_type": "execute_result"
    },
    {
     "data": {
      "image/png": "[encoded data removed]",
      "text/plain": [
       "<Figure size 432x288 with 1 Axes>"
      ]
     },
     "metadata": {
      "needs_background": "light"
     },
     "output_type": "display_data"
    }
   ],
   "source": [
    "sns.countplot(df['C'])"
   ]
  },
  {
   "cell_type": "code",
   "execution_count": 20,
   "metadata": {},
   "outputs": [
    {
     "data": {
      "text/plain": [
       "<matplotlib.axes._subplots.AxesSubplot at 0x7f690162ffd0>"
      ]
     },
     "execution_count": 20,
     "metadata": {},
     "output_type": "execute_result"
    },
    {
     "data": {
      "image/png": "[encoded data removed]",
      "text/plain": [
       "<Figure size 432x288 with 1 Axes>"
      ]
     },
     "metadata": {
      "needs_background": "light"
     },
     "output_type": "display_data"
    }
   ],
   "source": [
    "sns.countplot(df['D'])"
   ]
  },
  {
   "cell_type": "code",
   "execution_count": 21,
   "metadata": {},
   "outputs": [
    {
     "data": {
      "text/plain": [
       "<matplotlib.axes._subplots.AxesSubplot at 0x7f690159b9e8>"
      ]
     },
     "execution_count": 21,
     "metadata": {},
     "output_type": "execute_result"
    },
    {
     "data": {
      "image/png": "[encoded data removed]",
      "text/plain": [
       "<Figure size 432x288 with 1 Axes>"
      ]
     },
     "metadata": {
      "needs_background": "light"
     },
     "output_type": "display_data"
    }
   ],
   "source": [
    "sns.countplot(df['E'])"
   ]
  },
  {
   "cell_type": "code",
   "execution_count": 22,
   "metadata": {},
   "outputs": [
    {
     "data": {
      "text/plain": [
       "<matplotlib.axes._subplots.AxesSubplot at 0x7f69018e0780>"
      ]
     },
     "execution_count": 22,
     "metadata": {},
     "output_type": "execute_result"
    },
    {
     "data": {
      "image/png": "[encoded data removed]",
      "text/plain": [
       "<Figure size 432x288 with 1 Axes>"
      ]
     },
     "metadata": {
      "needs_background": "light"
     },
     "output_type": "display_data"
    }
   ],
   "source": [
    "sns.countplot(df['F'])"
   ]
  },
  {
   "cell_type": "code",
   "execution_count": 23,
   "metadata": {},
   "outputs": [
    {
     "data": {
      "text/plain": [
       "<matplotlib.axes._subplots.AxesSubplot at 0x7f690157fa20>"
      ]
     },
     "execution_count": 23,
     "metadata": {},
     "output_type": "execute_result"
    },
    {
     "data": {
      "image/png": "[encoded data removed]",
      "text/plain": [
       "<Figure size 432x288 with 1 Axes>"
      ]
     },
     "metadata": {
      "needs_background": "light"
     },
     "output_type": "display_data"
    }
   ],
   "source": [
    "sns.countplot(df['G'])"
   ]
  },
  {
   "cell_type": "code",
   "execution_count": 24,
   "metadata": {},
   "outputs": [],
   "source": [
    "purchased_df = df[df['record_type']==1][['customer_ID','cost','day', 'A','B','C','D','E','F', 'G']].reset_index(drop = True)\n",
    "#purchased_df.to_csv('Purchased_data.csv')"
   ]
  },
  {
   "cell_type": "code",
   "execution_count": 25,
   "metadata": {},
   "outputs": [
    {
     "data": {
      "text/plain": [
       "' Cust id shouldnt influence ur model'"
      ]
     },
     "execution_count": 25,
     "metadata": {},
     "output_type": "execute_result"
    }
   ],
   "source": [
    "''' Cust id shouldnt influence ur model'''\n",
    "#df.drop('customer_ID', axis = 1, inplace=True)\n",
    "#df.iloc[int(len(df['customer_ID'].unique())*.8)]['customer_ID']"
   ]
  },
  {
   "cell_type": "code",
   "execution_count": 26,
   "metadata": {},
   "outputs": [],
   "source": [
    "df_new = df[df['record_type']==0]"
   ]
  },
  {
   "cell_type": "code",
   "execution_count": 27,
   "metadata": {},
   "outputs": [
    {
     "data": {
      "text/html": [
       "<div>\n",
       "<style scoped>\n",
       "    .dataframe tbody tr th:only-of-type {\n",
       "        vertical-align: middle;\n",
       "    }\n",
       "\n",
       "    .dataframe tbody tr th {\n",
       "        vertical-align: top;\n",
       "    }\n",
       "\n",
       "    .dataframe thead th {\n",
       "        text-align: right;\n",
       "    }\n",
       "</style>\n",
       "<table border=\"1\" class=\"dataframe\">\n",
       "  <thead>\n",
       "    <tr style=\"text-align: right;\">\n",
       "      <th></th>\n",
       "      <th>customer_ID</th>\n",
       "      <th>shopping_pt</th>\n",
       "      <th>record_type</th>\n",
       "      <th>day</th>\n",
       "      <th>state</th>\n",
       "      <th>location</th>\n",
       "      <th>group_size</th>\n",
       "      <th>homeowner</th>\n",
       "      <th>car_age</th>\n",
       "      <th>car_value</th>\n",
       "      <th>...</th>\n",
       "      <th>C_previous</th>\n",
       "      <th>duration_previous</th>\n",
       "      <th>A</th>\n",
       "      <th>B</th>\n",
       "      <th>C</th>\n",
       "      <th>D</th>\n",
       "      <th>E</th>\n",
       "      <th>F</th>\n",
       "      <th>G</th>\n",
       "      <th>cost</th>\n",
       "    </tr>\n",
       "  </thead>\n",
       "  <tbody>\n",
       "    <tr>\n",
       "      <th>0</th>\n",
       "      <td>10000000</td>\n",
       "      <td>1</td>\n",
       "      <td>0</td>\n",
       "      <td>0</td>\n",
       "      <td>IN</td>\n",
       "      <td>10001</td>\n",
       "      <td>2</td>\n",
       "      <td>0</td>\n",
       "      <td>2</td>\n",
       "      <td>g</td>\n",
       "      <td>...</td>\n",
       "      <td>1.0</td>\n",
       "      <td>2.0</td>\n",
       "      <td>1</td>\n",
       "      <td>0</td>\n",
       "      <td>2</td>\n",
       "      <td>2</td>\n",
       "      <td>1</td>\n",
       "      <td>2</td>\n",
       "      <td>2</td>\n",
       "      <td>633</td>\n",
       "    </tr>\n",
       "    <tr>\n",
       "      <th>1</th>\n",
       "      <td>10000000</td>\n",
       "      <td>2</td>\n",
       "      <td>0</td>\n",
       "      <td>0</td>\n",
       "      <td>IN</td>\n",
       "      <td>10001</td>\n",
       "      <td>2</td>\n",
       "      <td>0</td>\n",
       "      <td>2</td>\n",
       "      <td>g</td>\n",
       "      <td>...</td>\n",
       "      <td>1.0</td>\n",
       "      <td>2.0</td>\n",
       "      <td>1</td>\n",
       "      <td>0</td>\n",
       "      <td>2</td>\n",
       "      <td>2</td>\n",
       "      <td>1</td>\n",
       "      <td>2</td>\n",
       "      <td>1</td>\n",
       "      <td>630</td>\n",
       "    </tr>\n",
       "    <tr>\n",
       "      <th>2</th>\n",
       "      <td>10000000</td>\n",
       "      <td>3</td>\n",
       "      <td>0</td>\n",
       "      <td>0</td>\n",
       "      <td>IN</td>\n",
       "      <td>10001</td>\n",
       "      <td>2</td>\n",
       "      <td>0</td>\n",
       "      <td>2</td>\n",
       "      <td>g</td>\n",
       "      <td>...</td>\n",
       "      <td>1.0</td>\n",
       "      <td>2.0</td>\n",
       "      <td>1</td>\n",
       "      <td>0</td>\n",
       "      <td>2</td>\n",
       "      <td>2</td>\n",
       "      <td>1</td>\n",
       "      <td>2</td>\n",
       "      <td>1</td>\n",
       "      <td>630</td>\n",
       "    </tr>\n",
       "    <tr>\n",
       "      <th>3</th>\n",
       "      <td>10000000</td>\n",
       "      <td>4</td>\n",
       "      <td>0</td>\n",
       "      <td>0</td>\n",
       "      <td>IN</td>\n",
       "      <td>10001</td>\n",
       "      <td>2</td>\n",
       "      <td>0</td>\n",
       "      <td>2</td>\n",
       "      <td>g</td>\n",
       "      <td>...</td>\n",
       "      <td>1.0</td>\n",
       "      <td>2.0</td>\n",
       "      <td>1</td>\n",
       "      <td>0</td>\n",
       "      <td>2</td>\n",
       "      <td>2</td>\n",
       "      <td>1</td>\n",
       "      <td>2</td>\n",
       "      <td>1</td>\n",
       "      <td>630</td>\n",
       "    </tr>\n",
       "    <tr>\n",
       "      <th>4</th>\n",
       "      <td>10000000</td>\n",
       "      <td>5</td>\n",
       "      <td>0</td>\n",
       "      <td>0</td>\n",
       "      <td>IN</td>\n",
       "      <td>10001</td>\n",
       "      <td>2</td>\n",
       "      <td>0</td>\n",
       "      <td>2</td>\n",
       "      <td>g</td>\n",
       "      <td>...</td>\n",
       "      <td>1.0</td>\n",
       "      <td>2.0</td>\n",
       "      <td>1</td>\n",
       "      <td>0</td>\n",
       "      <td>2</td>\n",
       "      <td>2</td>\n",
       "      <td>1</td>\n",
       "      <td>2</td>\n",
       "      <td>1</td>\n",
       "      <td>630</td>\n",
       "    </tr>\n",
       "    <tr>\n",
       "      <th>5</th>\n",
       "      <td>10000000</td>\n",
       "      <td>6</td>\n",
       "      <td>0</td>\n",
       "      <td>0</td>\n",
       "      <td>IN</td>\n",
       "      <td>10001</td>\n",
       "      <td>2</td>\n",
       "      <td>0</td>\n",
       "      <td>2</td>\n",
       "      <td>g</td>\n",
       "      <td>...</td>\n",
       "      <td>1.0</td>\n",
       "      <td>2.0</td>\n",
       "      <td>1</td>\n",
       "      <td>0</td>\n",
       "      <td>2</td>\n",
       "      <td>2</td>\n",
       "      <td>1</td>\n",
       "      <td>2</td>\n",
       "      <td>1</td>\n",
       "      <td>638</td>\n",
       "    </tr>\n",
       "    <tr>\n",
       "      <th>6</th>\n",
       "      <td>10000000</td>\n",
       "      <td>7</td>\n",
       "      <td>0</td>\n",
       "      <td>0</td>\n",
       "      <td>IN</td>\n",
       "      <td>10001</td>\n",
       "      <td>2</td>\n",
       "      <td>0</td>\n",
       "      <td>2</td>\n",
       "      <td>g</td>\n",
       "      <td>...</td>\n",
       "      <td>1.0</td>\n",
       "      <td>2.0</td>\n",
       "      <td>1</td>\n",
       "      <td>0</td>\n",
       "      <td>2</td>\n",
       "      <td>2</td>\n",
       "      <td>1</td>\n",
       "      <td>2</td>\n",
       "      <td>1</td>\n",
       "      <td>638</td>\n",
       "    </tr>\n",
       "    <tr>\n",
       "      <th>7</th>\n",
       "      <td>10000000</td>\n",
       "      <td>8</td>\n",
       "      <td>0</td>\n",
       "      <td>0</td>\n",
       "      <td>IN</td>\n",
       "      <td>10001</td>\n",
       "      <td>2</td>\n",
       "      <td>0</td>\n",
       "      <td>2</td>\n",
       "      <td>g</td>\n",
       "      <td>...</td>\n",
       "      <td>1.0</td>\n",
       "      <td>2.0</td>\n",
       "      <td>1</td>\n",
       "      <td>0</td>\n",
       "      <td>2</td>\n",
       "      <td>2</td>\n",
       "      <td>1</td>\n",
       "      <td>2</td>\n",
       "      <td>1</td>\n",
       "      <td>638</td>\n",
       "    </tr>\n",
       "    <tr>\n",
       "      <th>9</th>\n",
       "      <td>10000005</td>\n",
       "      <td>1</td>\n",
       "      <td>0</td>\n",
       "      <td>3</td>\n",
       "      <td>NY</td>\n",
       "      <td>10006</td>\n",
       "      <td>1</td>\n",
       "      <td>0</td>\n",
       "      <td>10</td>\n",
       "      <td>e</td>\n",
       "      <td>...</td>\n",
       "      <td>3.0</td>\n",
       "      <td>13.0</td>\n",
       "      <td>1</td>\n",
       "      <td>1</td>\n",
       "      <td>3</td>\n",
       "      <td>3</td>\n",
       "      <td>1</td>\n",
       "      <td>0</td>\n",
       "      <td>2</td>\n",
       "      <td>755</td>\n",
       "    </tr>\n",
       "    <tr>\n",
       "      <th>10</th>\n",
       "      <td>10000005</td>\n",
       "      <td>2</td>\n",
       "      <td>0</td>\n",
       "      <td>3</td>\n",
       "      <td>NY</td>\n",
       "      <td>10006</td>\n",
       "      <td>1</td>\n",
       "      <td>0</td>\n",
       "      <td>10</td>\n",
       "      <td>e</td>\n",
       "      <td>...</td>\n",
       "      <td>3.0</td>\n",
       "      <td>13.0</td>\n",
       "      <td>1</td>\n",
       "      <td>1</td>\n",
       "      <td>3</td>\n",
       "      <td>3</td>\n",
       "      <td>1</td>\n",
       "      <td>0</td>\n",
       "      <td>2</td>\n",
       "      <td>755</td>\n",
       "    </tr>\n",
       "  </tbody>\n",
       "</table>\n",
       "<p>10 rows × 23 columns</p>\n",
       "</div>"
      ],
      "text/plain": [
       "    customer_ID  shopping_pt  record_type  day state  location  group_size  \\\n",
       "0      10000000            1            0    0    IN     10001           2   \n",
       "1      10000000            2            0    0    IN     10001           2   \n",
       "2      10000000            3            0    0    IN     10001           2   \n",
       "3      10000000            4            0    0    IN     10001           2   \n",
       "4      10000000            5            0    0    IN     10001           2   \n",
       "5      10000000            6            0    0    IN     10001           2   \n",
       "6      10000000            7            0    0    IN     10001           2   \n",
       "7      10000000            8            0    0    IN     10001           2   \n",
       "9      10000005            1            0    3    NY     10006           1   \n",
       "10     10000005            2            0    3    NY     10006           1   \n",
       "\n",
       "    homeowner  car_age car_value  ...  C_previous  duration_previous  A  B  C  \\\n",
       "0           0        2         g  ...         1.0                2.0  1  0  2   \n",
       "1           0        2         g  ...         1.0                2.0  1  0  2   \n",
       "2           0        2         g  ...         1.0                2.0  1  0  2   \n",
       "3           0        2         g  ...         1.0                2.0  1  0  2   \n",
       "4           0        2         g  ...         1.0                2.0  1  0  2   \n",
       "5           0        2         g  ...         1.0                2.0  1  0  2   \n",
       "6           0        2         g  ...         1.0                2.0  1  0  2   \n",
       "7           0        2         g  ...         1.0                2.0  1  0  2   \n",
       "9           0       10         e  ...         3.0               13.0  1  1  3   \n",
       "10          0       10         e  ...         3.0               13.0  1  1  3   \n",
       "\n",
       "    D  E  F  G  cost  \n",
       "0   2  1  2  2   633  \n",
       "1   2  1  2  1   630  \n",
       "2   2  1  2  1   630  \n",
       "3   2  1  2  1   630  \n",
       "4   2  1  2  1   630  \n",
       "5   2  1  2  1   638  \n",
       "6   2  1  2  1   638  \n",
       "7   2  1  2  1   638  \n",
       "9   3  1  0  2   755  \n",
       "10  3  1  0  2   755  \n",
       "\n",
       "[10 rows x 23 columns]"
      ]
     },
     "execution_count": 27,
     "metadata": {},
     "output_type": "execute_result"
    }
   ],
   "source": [
    "df_new.head(10)"
   ]
  },
  {
   "cell_type": "code",
   "execution_count": 28,
   "metadata": {},
   "outputs": [
    {
     "data": {
      "text/plain": [
       "Index(['customer_ID', 'shopping_pt', 'record_type', 'day', 'state', 'location',\n",
       "       'group_size', 'homeowner', 'car_age', 'car_value', 'age_oldest',\n",
       "       'age_youngest', 'married_couple', 'C_previous', 'duration_previous',\n",
       "       'A', 'B', 'C', 'D', 'E', 'F', 'G', 'cost'],\n",
       "      dtype='object')"
      ]
     },
     "execution_count": 28,
     "metadata": {},
     "output_type": "execute_result"
    }
   ],
   "source": [
    "df_new.columns"
   ]
  },
  {
   "cell_type": "code",
   "execution_count": 29,
   "metadata": {},
   "outputs": [],
   "source": [
    "def get_transformed(id_col,col_name,df, min_max):\n",
    "    if min_max=='max':\n",
    "        df[col_name]=df.groupby(id_col)[col_name].transform('max')\n",
    "    else:\n",
    "        df[col_name]=df.groupby(id_col)[col_name].transform('min')\n",
    "    return df"
   ]
  },
  {
   "cell_type": "code",
   "execution_count": 30,
   "metadata": {},
   "outputs": [
    {
     "name": "stderr",
     "output_type": "stream",
     "text": [
      "/colt/anaconda3/lib/python3.7/site-packages/ipykernel_launcher.py:3: SettingWithCopyWarning: \n",
      "A value is trying to be set on a copy of a slice from a DataFrame.\n",
      "Try using .loc[row_indexer,col_indexer] = value instead\n",
      "\n",
      "See the caveats in the documentation: http://pandas.pydata.org/pandas-docs/stable/indexing.html#indexing-view-versus-copy\n",
      "  This is separate from the ipykernel package so we can avoid doing imports until\n",
      "/colt/anaconda3/lib/python3.7/site-packages/ipykernel_launcher.py:5: SettingWithCopyWarning: \n",
      "A value is trying to be set on a copy of a slice from a DataFrame.\n",
      "Try using .loc[row_indexer,col_indexer] = value instead\n",
      "\n",
      "See the caveats in the documentation: http://pandas.pydata.org/pandas-docs/stable/indexing.html#indexing-view-versus-copy\n",
      "  \"\"\"\n"
     ]
    }
   ],
   "source": [
    "# df_new['married_couple'] = df_new.groupby(\"customer_ID\").cummax()['married_couple']\n",
    "# df_new[['customer_ID', 'married_couple']]\n",
    "df_new = get_transformed('customer_ID', col_name='married_couple', df=df_new, min_max='max')\n",
    "df_new = get_transformed('customer_ID', col_name='age_oldest', df=df_new, min_max='max')\n",
    "df_new = get_transformed('customer_ID', col_name='duration_previous', df=df_new,min_max='max')\n",
    "df_new = get_transformed('customer_ID', col_name='C_previous', df=df_new,min_max='max')\n",
    "df_new = get_transformed('customer_ID', col_name='group_size', df=df_new,min_max='max')\n",
    "\n",
    "\n",
    "df_new = get_transformed('customer_ID', col_name='age_youngest', df=df_new, min_max='min')\n",
    "df_new = get_transformed('customer_ID', col_name='homeowner', df=df_new,min_max='max')\n",
    "df_new = get_transformed('customer_ID', col_name='car_value', df=df_new,min_max='max')\n",
    "df_new = get_transformed('customer_ID', col_name='car_age', df=df_new,min_max='max')"
   ]
  },
  {
   "cell_type": "code",
   "execution_count": 31,
   "metadata": {},
   "outputs": [],
   "source": [
    "df_new.to_csv('cumm_data_processed.csv')"
   ]
  },
  {
   "cell_type": "code",
   "execution_count": 32,
   "metadata": {},
   "outputs": [],
   "source": [
    "#df_new['location'].value_counts()\n",
    "df_new.columns =['customer_ID', 'shopping_pt', 'record_type', 'day', 'state', 'location',\n",
    "       'group_size', 'homeowner', 'car_age', 'car_value', 'age_oldest',\n",
    "       'age_youngest', 'married_couple', 'C_previous', 'duration_previous',\n",
    "       'A_rec0', 'B_rec0', 'C_rec0', 'D_rec0', 'E_rec0', 'F_rec0', 'G_rec0', 'cost']"
   ]
  },
  {
   "cell_type": "code",
   "execution_count": 33,
   "metadata": {},
   "outputs": [
    {
     "name": "stderr",
     "output_type": "stream",
     "text": [
      "/colt/anaconda3/lib/python3.7/site-packages/pandas/core/frame.py:3940: SettingWithCopyWarning: \n",
      "A value is trying to be set on a copy of a slice from a DataFrame\n",
      "\n",
      "See the caveats in the documentation: http://pandas.pydata.org/pandas-docs/stable/indexing.html#indexing-view-versus-copy\n",
      "  errors=errors)\n"
     ]
    }
   ],
   "source": [
    "''' This info we have in purchased_df'''\n",
    "df_new.drop(['cost','day'], axis = 1, inplace=True)"
   ]
  },
  {
   "cell_type": "code",
   "execution_count": 34,
   "metadata": {},
   "outputs": [
    {
     "data": {
      "text/plain": [
       "95338"
      ]
     },
     "execution_count": 34,
     "metadata": {},
     "output_type": "execute_result"
    }
   ],
   "source": [
    "len(df_new['customer_ID'].unique())"
   ]
  },
  {
   "cell_type": "code",
   "execution_count": 35,
   "metadata": {},
   "outputs": [],
   "source": [
    "''' state, day, loc, car_val, '''\n",
    "def get_dummies_data(col, df):\n",
    "    df_state= pd.get_dummies(df[col],drop_first=True)\n",
    "    df = pd.concat([df.drop(col, axis = 1),df_state], axis =1)\n",
    "    return df"
   ]
  },
  {
   "cell_type": "code",
   "execution_count": 36,
   "metadata": {},
   "outputs": [],
   "source": [
    "df_dummies = pd.get_dummies(df_new, columns=['state', 'car_value','A_rec0', 'B_rec0', 'C_rec0', 'D_rec0', 'E_rec0', 'F_rec0', 'G_rec0'])"
   ]
  },
  {
   "cell_type": "code",
   "execution_count": 37,
   "metadata": {},
   "outputs": [
    {
     "data": {
      "text/plain": [
       "Index(['customer_ID', 'shopping_pt', 'record_type', 'location', 'group_size',\n",
       "       'homeowner', 'car_age', 'age_oldest', 'age_youngest', 'married_couple',\n",
       "       'C_previous', 'duration_previous', 'state_AL', 'state_AR', 'state_CO',\n",
       "       'state_CT', 'state_DC', 'state_DE', 'state_FL', 'state_GA', 'state_IA',\n",
       "       'state_ID', 'state_IN', 'state_KS', 'state_KY', 'state_MD', 'state_ME',\n",
       "       'state_MO', 'state_MS', 'state_MT', 'state_ND', 'state_NE', 'state_NH',\n",
       "       'state_NM', 'state_NV', 'state_NY', 'state_OH', 'state_OK', 'state_OR',\n",
       "       'state_PA', 'state_RI', 'state_SD', 'state_TN', 'state_UT', 'state_WA',\n",
       "       'state_WI', 'state_WV', 'state_WY', 'car_value_a', 'car_value_b',\n",
       "       'car_value_c', 'car_value_d', 'car_value_e', 'car_value_f',\n",
       "       'car_value_g', 'car_value_h', 'car_value_i', 'A_rec0_0', 'A_rec0_1',\n",
       "       'A_rec0_2', 'B_rec0_0', 'B_rec0_1', 'C_rec0_1', 'C_rec0_2', 'C_rec0_3',\n",
       "       'C_rec0_4', 'D_rec0_1', 'D_rec0_2', 'D_rec0_3', 'E_rec0_0', 'E_rec0_1',\n",
       "       'F_rec0_0', 'F_rec0_1', 'F_rec0_2', 'F_rec0_3', 'G_rec0_1', 'G_rec0_2',\n",
       "       'G_rec0_3', 'G_rec0_4'],\n",
       "      dtype='object')"
      ]
     },
     "execution_count": 37,
     "metadata": {},
     "output_type": "execute_result"
    }
   ],
   "source": [
    "df_dummies.columns"
   ]
  },
  {
   "cell_type": "code",
   "execution_count": 38,
   "metadata": {},
   "outputs": [],
   "source": [
    "def get_shopped_df(df_dummies, grp_by_col_list):\n",
    "    shopped_df = df_dummies.groupby(grp_by_col_list)[['A_rec0_0', 'A_rec0_1',\n",
    "           'A_rec0_2', 'B_rec0_0', 'B_rec0_1', 'C_rec0_1', 'C_rec0_2', 'C_rec0_3',\n",
    "           'C_rec0_4', 'D_rec0_1', 'D_rec0_2', 'D_rec0_3', 'E_rec0_0', 'E_rec0_1',\n",
    "           'F_rec0_0', 'F_rec0_1', 'F_rec0_2', 'F_rec0_3', 'G_rec0_1', 'G_rec0_2',\n",
    "           'G_rec0_3', 'G_rec0_4']].sum().reset_index(drop = False)#.to_csv('preprocessed.csv')\n",
    "    return shopped_df"
   ]
  },
  {
   "cell_type": "code",
   "execution_count": 39,
   "metadata": {},
   "outputs": [],
   "source": [
    "grp_by_col_list = ['customer_ID','group_size',\n",
    "           'homeowner', 'car_age', 'age_oldest', 'age_youngest', 'married_couple',\n",
    "           'C_previous', 'duration_previous', 'state_AL', 'state_AR', 'state_CO',\n",
    "           'state_CT', 'state_DC', 'state_DE', 'state_FL', 'state_GA', 'state_IA',\n",
    "           'state_ID', 'state_IN', 'state_KS', 'state_KY', 'state_MD', 'state_ME',\n",
    "           'state_MO', 'state_MS', 'state_MT', 'state_ND', 'state_NE', 'state_NH',\n",
    "           'state_NM', 'state_NV', 'state_NY', 'state_OH', 'state_OK', 'state_OR',\n",
    "           'state_PA', 'state_RI', 'state_SD', 'state_TN', 'state_UT', 'state_WA',\n",
    "           'state_WI', 'state_WV', 'state_WY', 'car_value_a', 'car_value_b',\n",
    "           'car_value_c', 'car_value_d', 'car_value_e', 'car_value_f',\n",
    "           'car_value_g', 'car_value_h', 'car_value_i']\n",
    "shopped_df = get_shopped_df(df_dummies, grp_by_col_list)"
   ]
  },
  {
   "cell_type": "code",
   "execution_count": 40,
   "metadata": {},
   "outputs": [],
   "source": [
    "#final_df = shopped_df.merge(purchased_df, on ='customer_ID')\n",
    "final_df = pd.merge(shopped_df,purchased_df, on='customer_ID')"
   ]
  },
  {
   "cell_type": "code",
   "execution_count": 41,
   "metadata": {},
   "outputs": [],
   "source": [
    "final_df.to_csv('Final_preprocessed.csv')"
   ]
  },
  {
   "cell_type": "code",
   "execution_count": 42,
   "metadata": {},
   "outputs": [
    {
     "data": {
      "text/plain": [
       "Index(['customer_ID', 'group_size', 'homeowner', 'car_age', 'age_oldest',\n",
       "       'age_youngest', 'married_couple', 'C_previous', 'duration_previous',\n",
       "       'state_AL', 'state_AR', 'state_CO', 'state_CT', 'state_DC', 'state_DE',\n",
       "       'state_FL', 'state_GA', 'state_IA', 'state_ID', 'state_IN', 'state_KS',\n",
       "       'state_KY', 'state_MD', 'state_ME', 'state_MO', 'state_MS', 'state_MT',\n",
       "       'state_ND', 'state_NE', 'state_NH', 'state_NM', 'state_NV', 'state_NY',\n",
       "       'state_OH', 'state_OK', 'state_OR', 'state_PA', 'state_RI', 'state_SD',\n",
       "       'state_TN', 'state_UT', 'state_WA', 'state_WI', 'state_WV', 'state_WY',\n",
       "       'car_value_a', 'car_value_b', 'car_value_c', 'car_value_d',\n",
       "       'car_value_e', 'car_value_f', 'car_value_g', 'car_value_h',\n",
       "       'car_value_i', 'A_rec0_0', 'A_rec0_1', 'A_rec0_2', 'B_rec0_0',\n",
       "       'B_rec0_1', 'C_rec0_1', 'C_rec0_2', 'C_rec0_3', 'C_rec0_4', 'D_rec0_1',\n",
       "       'D_rec0_2', 'D_rec0_3', 'E_rec0_0', 'E_rec0_1', 'F_rec0_0', 'F_rec0_1',\n",
       "       'F_rec0_2', 'F_rec0_3', 'G_rec0_1', 'G_rec0_2', 'G_rec0_3', 'G_rec0_4',\n",
       "       'cost', 'day', 'A', 'B', 'C', 'D', 'E', 'F', 'G'],\n",
       "      dtype='object')"
      ]
     },
     "execution_count": 42,
     "metadata": {},
     "output_type": "execute_result"
    }
   ],
   "source": [
    "final_df.columns"
   ]
  },
  {
   "cell_type": "code",
   "execution_count": 43,
   "metadata": {},
   "outputs": [],
   "source": [
    "from sklearn.model_selection import train_test_split"
   ]
  },
  {
   "cell_type": "code",
   "execution_count": 44,
   "metadata": {},
   "outputs": [],
   "source": [
    "X=final_df.drop([ 'customer_ID','A', 'B', 'C', 'D', 'E', 'F', 'G'], axis = 1)\n",
    "y_a=final_df['A']\n",
    "y_b=final_df['B']\n",
    "y_c=final_df['C']\n",
    "y_d=final_df['D']\n",
    "y_e=final_df['E']\n",
    "y_f=final_df['F']\n",
    "y_g=final_df['G']"
   ]
  },
  {
   "cell_type": "code",
   "execution_count": 45,
   "metadata": {},
   "outputs": [
    {
     "data": {
      "text/plain": [
       "Index(['group_size', 'homeowner', 'car_age', 'age_oldest', 'age_youngest',\n",
       "       'married_couple', 'C_previous', 'duration_previous', 'state_AL',\n",
       "       'state_AR', 'state_CO', 'state_CT', 'state_DC', 'state_DE', 'state_FL',\n",
       "       'state_GA', 'state_IA', 'state_ID', 'state_IN', 'state_KS', 'state_KY',\n",
       "       'state_MD', 'state_ME', 'state_MO', 'state_MS', 'state_MT', 'state_ND',\n",
       "       'state_NE', 'state_NH', 'state_NM', 'state_NV', 'state_NY', 'state_OH',\n",
       "       'state_OK', 'state_OR', 'state_PA', 'state_RI', 'state_SD', 'state_TN',\n",
       "       'state_UT', 'state_WA', 'state_WI', 'state_WV', 'state_WY',\n",
       "       'car_value_a', 'car_value_b', 'car_value_c', 'car_value_d',\n",
       "       'car_value_e', 'car_value_f', 'car_value_g', 'car_value_h',\n",
       "       'car_value_i', 'A_rec0_0', 'A_rec0_1', 'A_rec0_2', 'B_rec0_0',\n",
       "       'B_rec0_1', 'C_rec0_1', 'C_rec0_2', 'C_rec0_3', 'C_rec0_4', 'D_rec0_1',\n",
       "       'D_rec0_2', 'D_rec0_3', 'E_rec0_0', 'E_rec0_1', 'F_rec0_0', 'F_rec0_1',\n",
       "       'F_rec0_2', 'F_rec0_3', 'G_rec0_1', 'G_rec0_2', 'G_rec0_3', 'G_rec0_4',\n",
       "       'cost', 'day'],\n",
       "      dtype='object')"
      ]
     },
     "execution_count": 45,
     "metadata": {},
     "output_type": "execute_result"
    }
   ],
   "source": [
    "X.columns"
   ]
  },
  {
   "cell_type": "code",
   "execution_count": 46,
   "metadata": {},
   "outputs": [],
   "source": [
    "from sklearn.ensemble import RandomForestClassifier\n",
    "from sklearn.metrics import confusion_matrix"
   ]
  },
  {
   "cell_type": "code",
   "execution_count": 48,
   "metadata": {},
   "outputs": [
    {
     "data": {
      "text/plain": [
       "array([[ 3673,   365,    80],\n",
       "       [  250, 11247,   310],\n",
       "       [  102,   690,  2325]])"
      ]
     },
     "execution_count": 48,
     "metadata": {},
     "output_type": "execute_result"
    }
   ],
   "source": [
    "X_train, X_test, y_train, y_test_a = train_test_split(X, y_a, test_size=0.20, random_state=42)\n",
    "classifier_a = RandomForestClassifier(n_estimators=10 ,random_state=42 ,class_weight={0:1.5,1:1,2:1.5})\n",
    "classifier_a.fit(X_train, y_train)\n",
    "\n",
    "y_pred_a = classifier_a.predict(X_test)\n",
    "y_pred_a = pd.DataFrame(y_pred_a)\n",
    "pred_df = pd.concat([y_test_a,y_pred_a], axis = 1)\n",
    "pred_df.columns = ['y_Test', 'Predicted']\n",
    "confusion_matrix(y_test_a,y_pred_a,labels=[0,1,2])"
   ]
  },
  {
   "cell_type": "code",
   "execution_count": 49,
   "metadata": {},
   "outputs": [
    {
     "name": "stderr",
     "output_type": "stream",
     "text": [
      "/colt/anaconda3/lib/python3.7/site-packages/sklearn/ensemble/forest.py:246: FutureWarning: The default value of n_estimators will change from 10 in version 0.20 to 100 in 0.22.\n",
      "  \"10 in version 0.20 to 100 in 0.22.\", FutureWarning)\n"
     ]
    },
    {
     "data": {
      "text/plain": [
       "array([[9228,  842],\n",
       "       [1058, 7914]])"
      ]
     },
     "execution_count": 49,
     "metadata": {},
     "output_type": "execute_result"
    }
   ],
   "source": [
    "X_train, X_test, y_train, y_test_b = train_test_split(X, y_b, test_size=0.20, random_state=42)\n",
    "classifier_b = RandomForestClassifier(random_state=42)#,class_weight={0:1,1:1,2:2})\n",
    "classifier_b.fit(X_train, y_train)\n",
    "\n",
    "y_pred_b = classifier_b.predict(X_test)\n",
    "y_pred_b = pd.DataFrame(y_pred_b)\n",
    "pred_df = pd.concat([y_test_b,y_pred_b], axis = 1)\n",
    "pred_df.columns = ['y_Test', 'Predicted']\n",
    "confusion_matrix(y_test_b,y_pred_b)#,labels=[0,1,2])"
   ]
  },
  {
   "cell_type": "code",
   "execution_count": 50,
   "metadata": {},
   "outputs": [
    {
     "name": "stderr",
     "output_type": "stream",
     "text": [
      "/colt/anaconda3/lib/python3.7/site-packages/sklearn/ensemble/forest.py:246: FutureWarning: The default value of n_estimators will change from 10 in version 0.20 to 100 in 0.22.\n",
      "  \"10 in version 0.20 to 100 in 0.22.\", FutureWarning)\n"
     ]
    },
    {
     "data": {
      "text/plain": [
       "array([[5111,  268,  187,   10],\n",
       "       [ 312, 3369,  316,   17],\n",
       "       [ 200,  260, 6930,  121],\n",
       "       [  23,   26,  224, 1668]])"
      ]
     },
     "execution_count": 50,
     "metadata": {},
     "output_type": "execute_result"
    }
   ],
   "source": [
    "X_train, X_test, y_train, y_test_c = train_test_split(X, y_c, test_size=0.20, random_state=42)\n",
    "classifier_c = RandomForestClassifier(random_state=42)#,class_weight={0:1,1:1,2:2})\n",
    "classifier_c.fit(X_train, y_train)\n",
    "\n",
    "y_pred_c = classifier_c.predict(X_test)\n",
    "y_pred_c = pd.DataFrame(y_pred_c)\n",
    "pred_df = pd.concat([y_test_c,y_pred_c], axis = 1)\n",
    "pred_df.columns = ['y_Test', 'Predicted']\n",
    "confusion_matrix(y_test_c,y_pred_c)#,labels=[0,1,2])"
   ]
  },
  {
   "cell_type": "code",
   "execution_count": 51,
   "metadata": {},
   "outputs": [
    {
     "name": "stderr",
     "output_type": "stream",
     "text": [
      "/colt/anaconda3/lib/python3.7/site-packages/sklearn/ensemble/forest.py:246: FutureWarning: The default value of n_estimators will change from 10 in version 0.20 to 100 in 0.22.\n",
      "  \"10 in version 0.20 to 100 in 0.22.\", FutureWarning)\n"
     ]
    },
    {
     "data": {
      "text/plain": [
       "array([[ 2170,   146,   143],\n",
       "       [  189,  3720,   339],\n",
       "       [  162,   428, 11745]])"
      ]
     },
     "execution_count": 51,
     "metadata": {},
     "output_type": "execute_result"
    }
   ],
   "source": [
    "X_train, X_test, y_train, y_test_d = train_test_split(X, y_d, test_size=0.20, random_state=42)\n",
    "classifier_d = RandomForestClassifier(random_state=42)#,class_weight={1:2,2:1.5,3:1})\n",
    "classifier_d.fit(X_train, y_train)\n",
    "\n",
    "y_pred_d = classifier_d.predict(X_test)\n",
    "y_pred_d = pd.DataFrame(y_pred_d)\n",
    "pred_df = pd.concat([y_test_d,y_pred_d], axis = 1)\n",
    "pred_df.columns = ['y_Test', 'Predicted']\n",
    "confusion_matrix(y_test_d,y_pred_d)#,labels=[0,1,2])"
   ]
  },
  {
   "cell_type": "code",
   "execution_count": 52,
   "metadata": {},
   "outputs": [
    {
     "name": "stderr",
     "output_type": "stream",
     "text": [
      "/colt/anaconda3/lib/python3.7/site-packages/sklearn/ensemble/forest.py:246: FutureWarning: The default value of n_estimators will change from 10 in version 0.20 to 100 in 0.22.\n",
      "  \"10 in version 0.20 to 100 in 0.22.\", FutureWarning)\n"
     ]
    },
    {
     "data": {
      "text/plain": [
       "array([[9445,  688],\n",
       "       [1048, 7861]])"
      ]
     },
     "execution_count": 52,
     "metadata": {},
     "output_type": "execute_result"
    }
   ],
   "source": [
    "X_train, X_test, y_train, y_test_e = train_test_split(X, y_e, test_size=0.20, random_state=42)\n",
    "classifier_e = RandomForestClassifier(random_state=42)#,class_weight={0:1,1:1,2:2})\n",
    "classifier_e.fit(X_train, y_train)\n",
    "\n",
    "y_pred_e = classifier_e.predict(X_test)\n",
    "y_pred_e = pd.DataFrame(y_pred_e)\n",
    "pred_df = pd.concat([y_test_e,y_pred_e], axis = 1)\n",
    "pred_df.columns = ['y_Test', 'Predicted']\n",
    "confusion_matrix(y_test_e,y_pred_e)#,labels=[0,1,2])"
   ]
  },
  {
   "cell_type": "code",
   "execution_count": 53,
   "metadata": {},
   "outputs": [
    {
     "name": "stderr",
     "output_type": "stream",
     "text": [
      "/colt/anaconda3/lib/python3.7/site-packages/sklearn/ensemble/forest.py:246: FutureWarning: The default value of n_estimators will change from 10 in version 0.20 to 100 in 0.22.\n",
      "  \"10 in version 0.20 to 100 in 0.22.\", FutureWarning)\n"
     ]
    },
    {
     "data": {
      "text/plain": [
       "array([[5712,  114,  221,   24],\n",
       "       [  99, 4112,  437,   28],\n",
       "       [ 182,  399, 6518,  122],\n",
       "       [  44,   45,  236,  749]])"
      ]
     },
     "execution_count": 53,
     "metadata": {},
     "output_type": "execute_result"
    }
   ],
   "source": [
    "X_train, X_test, y_train, y_test_f = train_test_split(X, y_f, test_size=0.20, random_state=42)\n",
    "classifier_f = RandomForestClassifier(random_state=42,class_weight={0:1,1:1.1,2:1, 3:1.9})\n",
    "classifier_f.fit(X_train, y_train)\n",
    "\n",
    "y_pred_f = classifier_f.predict(X_test)\n",
    "y_pred_f = pd.DataFrame(y_pred_f)\n",
    "pred_df = pd.concat([y_test_f,y_pred_f], axis = 1)\n",
    "#pred_df.columns = ['y_Test', 'Predicted']\n",
    "confusion_matrix(y_test_f,y_pred_f)#,labels=[0,1,2])"
   ]
  },
  {
   "cell_type": "code",
   "execution_count": 54,
   "metadata": {},
   "outputs": [
    {
     "name": "stderr",
     "output_type": "stream",
     "text": [
      "/colt/anaconda3/lib/python3.7/site-packages/sklearn/ensemble/forest.py:246: FutureWarning: The default value of n_estimators will change from 10 in version 0.20 to 100 in 0.22.\n",
      "  \"10 in version 0.20 to 100 in 0.22.\", FutureWarning)\n"
     ]
    },
    {
     "data": {
      "text/plain": [
       "array([[3180,  607,  128,   26],\n",
       "       [ 682, 6403,  303,   79],\n",
       "       [ 222,  512, 5119,  119],\n",
       "       [  86,  228,  353,  995]])"
      ]
     },
     "execution_count": 54,
     "metadata": {},
     "output_type": "execute_result"
    }
   ],
   "source": [
    "X_train, X_test, y_train, y_test_g = train_test_split(X, y_g, test_size=0.20, random_state=42)\n",
    "classifier_g = RandomForestClassifier(random_state=42,class_weight={1:1.2,2:1,3:1.1, 4:1.1})\n",
    "classifier_g.fit(X_train, y_train)\n",
    "\n",
    "y_pred_g = classifier_g.predict(X_test)\n",
    "y_pred_g = pd.DataFrame(y_pred_g)\n",
    "confusion_matrix(y_test_g,y_pred_g)#,labels=[0,1,2])"
   ]
  },
  {
   "cell_type": "code",
   "execution_count": 55,
   "metadata": {},
   "outputs": [],
   "source": [
    "def acc_colwise(pred_df, target, col):\n",
    "    y_pred_a = pred_df\n",
    "    target_a = target.to_frame().reset_index(drop = True)\n",
    "    acc_a = pd.concat([target_a, y_pred_a], axis = 1)\n",
    "    acc_a.columns = ['Target', 'Predicted']\n",
    "    acc_a['acc'] = acc_a['Target'] == acc_a['Predicted']\n",
    "    accuracy = acc_a['acc'].value_counts()[1]/(acc_a['acc'].value_counts()[1]+acc_a['acc'].value_counts()[0])\n",
    "    print('Accuracy for product {} is {}'.format(col,accuracy))"
   ]
  },
  {
   "cell_type": "code",
   "execution_count": 56,
   "metadata": {},
   "outputs": [
    {
     "name": "stdout",
     "output_type": "stream",
     "text": [
      "Accuracy for product A is 0.9056296607499212\n",
      "Accuracy for product B is 0.9002205650666947\n",
      "Accuracy for product C is 0.8968595735742044\n",
      "Accuracy for product D is 0.9261107026572839\n",
      "Accuracy for product E is 0.908833105766201\n",
      "Accuracy for product F is 0.8975422749711165\n",
      "Accuracy for product G is 0.8243356790253125\n"
     ]
    }
   ],
   "source": [
    "acc_colwise(y_pred_a, y_test_a, 'A')\n",
    "acc_colwise(y_pred_b, y_test_b, 'B')\n",
    "acc_colwise(y_pred_c, y_test_c, 'C')\n",
    "acc_colwise(y_pred_d, y_test_d, 'D')\n",
    "acc_colwise(y_pred_e, y_test_e, 'E')\n",
    "acc_colwise(y_pred_f, y_test_f, 'F')\n",
    "acc_colwise(y_pred_g, y_test_g, 'G')"
   ]
  },
  {
   "cell_type": "markdown",
   "metadata": {},
   "source": [
    "#### Test data"
   ]
  },
  {
   "cell_type": "code",
   "execution_count": 89,
   "metadata": {},
   "outputs": [],
   "source": [
    "test_df = pd.read_csv('test.csv')"
   ]
  },
  {
   "cell_type": "code",
   "execution_count": 90,
   "metadata": {},
   "outputs": [
    {
     "data": {
      "text/html": [
       "<div>\n",
       "<style scoped>\n",
       "    .dataframe tbody tr th:only-of-type {\n",
       "        vertical-align: middle;\n",
       "    }\n",
       "\n",
       "    .dataframe tbody tr th {\n",
       "        vertical-align: top;\n",
       "    }\n",
       "\n",
       "    .dataframe thead th {\n",
       "        text-align: right;\n",
       "    }\n",
       "</style>\n",
       "<table border=\"1\" class=\"dataframe\">\n",
       "  <thead>\n",
       "    <tr style=\"text-align: right;\">\n",
       "      <th></th>\n",
       "      <th>customer_ID</th>\n",
       "      <th>shopping_pt</th>\n",
       "      <th>record_type</th>\n",
       "      <th>day</th>\n",
       "      <th>time</th>\n",
       "      <th>state</th>\n",
       "      <th>location</th>\n",
       "      <th>group_size</th>\n",
       "      <th>homeowner</th>\n",
       "      <th>car_age</th>\n",
       "      <th>...</th>\n",
       "      <th>C_previous</th>\n",
       "      <th>duration_previous</th>\n",
       "      <th>A</th>\n",
       "      <th>B</th>\n",
       "      <th>C</th>\n",
       "      <th>D</th>\n",
       "      <th>E</th>\n",
       "      <th>F</th>\n",
       "      <th>G</th>\n",
       "      <th>cost</th>\n",
       "    </tr>\n",
       "  </thead>\n",
       "  <tbody>\n",
       "    <tr>\n",
       "      <th>0</th>\n",
       "      <td>10000001</td>\n",
       "      <td>1</td>\n",
       "      <td>0</td>\n",
       "      <td>1</td>\n",
       "      <td>12:35</td>\n",
       "      <td>OK</td>\n",
       "      <td>10002.0</td>\n",
       "      <td>1</td>\n",
       "      <td>0</td>\n",
       "      <td>9</td>\n",
       "      <td>...</td>\n",
       "      <td>3.0</td>\n",
       "      <td>9.0</td>\n",
       "      <td>0</td>\n",
       "      <td>0</td>\n",
       "      <td>1</td>\n",
       "      <td>1</td>\n",
       "      <td>0</td>\n",
       "      <td>0</td>\n",
       "      <td>4</td>\n",
       "      <td>543</td>\n",
       "    </tr>\n",
       "    <tr>\n",
       "      <th>1</th>\n",
       "      <td>10000001</td>\n",
       "      <td>2</td>\n",
       "      <td>0</td>\n",
       "      <td>1</td>\n",
       "      <td>12:36</td>\n",
       "      <td>OK</td>\n",
       "      <td>10002.0</td>\n",
       "      <td>1</td>\n",
       "      <td>0</td>\n",
       "      <td>9</td>\n",
       "      <td>...</td>\n",
       "      <td>3.0</td>\n",
       "      <td>9.0</td>\n",
       "      <td>2</td>\n",
       "      <td>1</td>\n",
       "      <td>1</td>\n",
       "      <td>3</td>\n",
       "      <td>1</td>\n",
       "      <td>3</td>\n",
       "      <td>2</td>\n",
       "      <td>611</td>\n",
       "    </tr>\n",
       "    <tr>\n",
       "      <th>2</th>\n",
       "      <td>10000002</td>\n",
       "      <td>1</td>\n",
       "      <td>0</td>\n",
       "      <td>4</td>\n",
       "      <td>12:19</td>\n",
       "      <td>PA</td>\n",
       "      <td>10003.0</td>\n",
       "      <td>1</td>\n",
       "      <td>1</td>\n",
       "      <td>7</td>\n",
       "      <td>...</td>\n",
       "      <td>2.0</td>\n",
       "      <td>15.0</td>\n",
       "      <td>2</td>\n",
       "      <td>0</td>\n",
       "      <td>2</td>\n",
       "      <td>3</td>\n",
       "      <td>1</td>\n",
       "      <td>2</td>\n",
       "      <td>2</td>\n",
       "      <td>691</td>\n",
       "    </tr>\n",
       "    <tr>\n",
       "      <th>3</th>\n",
       "      <td>10000002</td>\n",
       "      <td>2</td>\n",
       "      <td>0</td>\n",
       "      <td>4</td>\n",
       "      <td>12:21</td>\n",
       "      <td>PA</td>\n",
       "      <td>10003.0</td>\n",
       "      <td>1</td>\n",
       "      <td>1</td>\n",
       "      <td>7</td>\n",
       "      <td>...</td>\n",
       "      <td>2.0</td>\n",
       "      <td>15.0</td>\n",
       "      <td>2</td>\n",
       "      <td>0</td>\n",
       "      <td>2</td>\n",
       "      <td>3</td>\n",
       "      <td>1</td>\n",
       "      <td>2</td>\n",
       "      <td>2</td>\n",
       "      <td>695</td>\n",
       "    </tr>\n",
       "    <tr>\n",
       "      <th>4</th>\n",
       "      <td>10000003</td>\n",
       "      <td>1</td>\n",
       "      <td>0</td>\n",
       "      <td>3</td>\n",
       "      <td>17:12</td>\n",
       "      <td>AR</td>\n",
       "      <td>10004.0</td>\n",
       "      <td>1</td>\n",
       "      <td>0</td>\n",
       "      <td>4</td>\n",
       "      <td>...</td>\n",
       "      <td>3.0</td>\n",
       "      <td>1.0</td>\n",
       "      <td>1</td>\n",
       "      <td>0</td>\n",
       "      <td>1</td>\n",
       "      <td>1</td>\n",
       "      <td>0</td>\n",
       "      <td>2</td>\n",
       "      <td>2</td>\n",
       "      <td>628</td>\n",
       "    </tr>\n",
       "  </tbody>\n",
       "</table>\n",
       "<p>5 rows × 25 columns</p>\n",
       "</div>"
      ],
      "text/plain": [
       "   customer_ID  shopping_pt  record_type  day   time state  location  \\\n",
       "0     10000001            1            0    1  12:35    OK   10002.0   \n",
       "1     10000001            2            0    1  12:36    OK   10002.0   \n",
       "2     10000002            1            0    4  12:19    PA   10003.0   \n",
       "3     10000002            2            0    4  12:21    PA   10003.0   \n",
       "4     10000003            1            0    3  17:12    AR   10004.0   \n",
       "\n",
       "   group_size  homeowner  car_age  ... C_previous  duration_previous  A  B  C  \\\n",
       "0           1          0        9  ...        3.0                9.0  0  0  1   \n",
       "1           1          0        9  ...        3.0                9.0  2  1  1   \n",
       "2           1          1        7  ...        2.0               15.0  2  0  2   \n",
       "3           1          1        7  ...        2.0               15.0  2  0  2   \n",
       "4           1          0        4  ...        3.0                1.0  1  0  1   \n",
       "\n",
       "   D  E  F  G  cost  \n",
       "0  1  0  0  4   543  \n",
       "1  3  1  3  2   611  \n",
       "2  3  1  2  2   691  \n",
       "3  3  1  2  2   695  \n",
       "4  1  0  2  2   628  \n",
       "\n",
       "[5 rows x 25 columns]"
      ]
     },
     "execution_count": 90,
     "metadata": {},
     "output_type": "execute_result"
    }
   ],
   "source": [
    "test_df.head()"
   ]
  },
  {
   "cell_type": "code",
   "execution_count": 91,
   "metadata": {},
   "outputs": [],
   "source": [
    "test_df.drop('time', axis = 1, inplace=True)\n",
    "test_df.drop('risk_factor', axis = 1, inplace=True)"
   ]
  },
  {
   "cell_type": "code",
   "execution_count": 92,
   "metadata": {},
   "outputs": [
    {
     "data": {
      "text/plain": [
       "Index(['customer_ID', 'shopping_pt', 'record_type', 'day', 'state', 'location',\n",
       "       'group_size', 'homeowner', 'car_age', 'car_value', 'age_oldest',\n",
       "       'age_youngest', 'married_couple', 'C_previous', 'duration_previous',\n",
       "       'A', 'B', 'C', 'D', 'E', 'F', 'G', 'cost'],\n",
       "      dtype='object')"
      ]
     },
     "execution_count": 92,
     "metadata": {},
     "output_type": "execute_result"
    }
   ],
   "source": [
    "test_df.columns"
   ]
  },
  {
   "cell_type": "code",
   "execution_count": 93,
   "metadata": {},
   "outputs": [],
   "source": [
    "test_df = get_transformed('customer_ID', col_name='married_couple', df=test_df, min_max='max')\n",
    "test_df = get_transformed('customer_ID', col_name='age_oldest', df=test_df, min_max='max')\n",
    "test_df = get_transformed('customer_ID', col_name='duration_previous', df=test_df,min_max='max')\n",
    "test_df = get_transformed('customer_ID', col_name='C_previous', df=test_df,min_max='max')\n",
    "test_df = get_transformed('customer_ID', col_name='group_size', df=test_df,min_max='max')\n",
    "\n",
    "\n",
    "test_df = get_transformed('customer_ID', col_name='age_youngest', df=test_df, min_max='min')\n",
    "test_df = get_transformed('customer_ID', col_name='homeowner', df=test_df,min_max='max')\n",
    "test_df = get_transformed('customer_ID', col_name='day', df=test_df,min_max='max')\n",
    "test_df = get_transformed('customer_ID', col_name='cost', df=test_df,min_max='max')\n",
    "test_df = get_transformed('customer_ID', col_name='car_age', df=test_df,min_max='max')"
   ]
  },
  {
   "cell_type": "code",
   "execution_count": 94,
   "metadata": {},
   "outputs": [
    {
     "data": {
      "text/plain": [
       "Index(['customer_ID', 'shopping_pt', 'record_type', 'day', 'state', 'location',\n",
       "       'group_size', 'homeowner', 'car_age', 'car_value', 'age_oldest',\n",
       "       'age_youngest', 'married_couple', 'C_previous', 'duration_previous',\n",
       "       'A', 'B', 'C', 'D', 'E', 'F', 'G', 'cost'],\n",
       "      dtype='object')"
      ]
     },
     "execution_count": 94,
     "metadata": {},
     "output_type": "execute_result"
    }
   ],
   "source": [
    "test_df.columns"
   ]
  },
  {
   "cell_type": "code",
   "execution_count": 95,
   "metadata": {},
   "outputs": [
    {
     "data": {
      "text/plain": [
       "55716"
      ]
     },
     "execution_count": 95,
     "metadata": {},
     "output_type": "execute_result"
    }
   ],
   "source": [
    "len(test_df['customer_ID'].unique())"
   ]
  },
  {
   "cell_type": "code",
   "execution_count": 96,
   "metadata": {},
   "outputs": [],
   "source": [
    "test_df.columns =['customer_ID', 'shopping_pt', 'record_type', 'day', 'state', 'location',\n",
    "       'group_size', 'homeowner', 'car_age', 'car_value', 'age_oldest',\n",
    "       'age_youngest', 'married_couple', 'C_previous', 'duration_previous',\n",
    "       'A_rec0', 'B_rec0', 'C_rec0', 'D_rec0', 'E_rec0', 'F_rec0', 'G_rec0', 'cost']"
   ]
  },
  {
   "cell_type": "code",
   "execution_count": 97,
   "metadata": {},
   "outputs": [],
   "source": [
    "test_df_dummies = pd.get_dummies(test_df, columns=['state', 'car_value','A_rec0', 'B_rec0', 'C_rec0', 'D_rec0', 'E_rec0', 'F_rec0', 'G_rec0'])"
   ]
  },
  {
   "cell_type": "code",
   "execution_count": 98,
   "metadata": {},
   "outputs": [
    {
     "data": {
      "text/plain": [
       "Index(['customer_ID', 'shopping_pt', 'record_type', 'day', 'location',\n",
       "       'group_size', 'homeowner', 'car_age', 'age_oldest', 'age_youngest',\n",
       "       'married_couple', 'C_previous', 'duration_previous', 'cost', 'state_AL',\n",
       "       'state_AR', 'state_CO', 'state_CT', 'state_DC', 'state_DE', 'state_FL',\n",
       "       'state_GA', 'state_IA', 'state_ID', 'state_IN', 'state_KS', 'state_KY',\n",
       "       'state_MD', 'state_ME', 'state_MO', 'state_MS', 'state_MT', 'state_ND',\n",
       "       'state_NE', 'state_NH', 'state_NM', 'state_NV', 'state_NY', 'state_OH',\n",
       "       'state_OK', 'state_OR', 'state_PA', 'state_RI', 'state_SD', 'state_TN',\n",
       "       'state_UT', 'state_WA', 'state_WI', 'state_WV', 'state_WY',\n",
       "       'car_value_a', 'car_value_b', 'car_value_c', 'car_value_d',\n",
       "       'car_value_e', 'car_value_f', 'car_value_g', 'car_value_h',\n",
       "       'car_value_i', 'A_rec0_0', 'A_rec0_1', 'A_rec0_2', 'B_rec0_0',\n",
       "       'B_rec0_1', 'C_rec0_1', 'C_rec0_2', 'C_rec0_3', 'C_rec0_4', 'D_rec0_1',\n",
       "       'D_rec0_2', 'D_rec0_3', 'E_rec0_0', 'E_rec0_1', 'F_rec0_0', 'F_rec0_1',\n",
       "       'F_rec0_2', 'F_rec0_3', 'G_rec0_1', 'G_rec0_2', 'G_rec0_3', 'G_rec0_4'],\n",
       "      dtype='object')"
      ]
     },
     "execution_count": 98,
     "metadata": {},
     "output_type": "execute_result"
    }
   ],
   "source": [
    "test_df_dummies.columns"
   ]
  },
  {
   "cell_type": "code",
   "execution_count": null,
   "metadata": {},
   "outputs": [],
   "source": []
  },
  {
   "cell_type": "code",
   "execution_count": 99,
   "metadata": {},
   "outputs": [],
   "source": [
    "grp_by_col_list = ['customer_ID','group_size','cost','day',\n",
    "           'homeowner', 'car_age', 'age_oldest', 'age_youngest', 'married_couple',\n",
    "           'C_previous', 'duration_previous', 'state_AL', 'state_AR', 'state_CO',\n",
    "           'state_CT', 'state_DC', 'state_DE', 'state_FL', 'state_GA', 'state_IA',\n",
    "           'state_ID', 'state_IN', 'state_KS', 'state_KY', 'state_MD', 'state_ME',\n",
    "           'state_MO', 'state_MS', 'state_MT', 'state_ND', 'state_NE', 'state_NH',\n",
    "           'state_NM', 'state_NV', 'state_NY', 'state_OH', 'state_OK', 'state_OR',\n",
    "           'state_PA', 'state_RI', 'state_SD', 'state_TN', 'state_UT', 'state_WA',\n",
    "           'state_WI', 'state_WV', 'state_WY', 'car_value_a', 'car_value_b',\n",
    "           'car_value_c', 'car_value_d', 'car_value_e', 'car_value_f',\n",
    "           'car_value_g', 'car_value_h', 'car_value_i']\n",
    "test_shopped_df = get_shopped_df(test_df_dummies, grp_by_col_list)"
   ]
  },
  {
   "cell_type": "code",
   "execution_count": 100,
   "metadata": {},
   "outputs": [
    {
     "data": {
      "text/plain": [
       "Index(['customer_ID', 'group_size', 'cost', 'day', 'homeowner', 'car_age',\n",
       "       'age_oldest', 'age_youngest', 'married_couple', 'C_previous',\n",
       "       'duration_previous', 'state_AL', 'state_AR', 'state_CO', 'state_CT',\n",
       "       'state_DC', 'state_DE', 'state_FL', 'state_GA', 'state_IA', 'state_ID',\n",
       "       'state_IN', 'state_KS', 'state_KY', 'state_MD', 'state_ME', 'state_MO',\n",
       "       'state_MS', 'state_MT', 'state_ND', 'state_NE', 'state_NH', 'state_NM',\n",
       "       'state_NV', 'state_NY', 'state_OH', 'state_OK', 'state_OR', 'state_PA',\n",
       "       'state_RI', 'state_SD', 'state_TN', 'state_UT', 'state_WA', 'state_WI',\n",
       "       'state_WV', 'state_WY', 'car_value_a', 'car_value_b', 'car_value_c',\n",
       "       'car_value_d', 'car_value_e', 'car_value_f', 'car_value_g',\n",
       "       'car_value_h', 'car_value_i', 'A_rec0_0', 'A_rec0_1', 'A_rec0_2',\n",
       "       'B_rec0_0', 'B_rec0_1', 'C_rec0_1', 'C_rec0_2', 'C_rec0_3', 'C_rec0_4',\n",
       "       'D_rec0_1', 'D_rec0_2', 'D_rec0_3', 'E_rec0_0', 'E_rec0_1', 'F_rec0_0',\n",
       "       'F_rec0_1', 'F_rec0_2', 'F_rec0_3', 'G_rec0_1', 'G_rec0_2', 'G_rec0_3',\n",
       "       'G_rec0_4'],\n",
       "      dtype='object')"
      ]
     },
     "execution_count": 100,
     "metadata": {},
     "output_type": "execute_result"
    }
   ],
   "source": [
    "test_shopped_df.columns"
   ]
  },
  {
   "cell_type": "code",
   "execution_count": 101,
   "metadata": {},
   "outputs": [],
   "source": [
    "test_final_df = test_shopped_df[['customer_ID', 'group_size', 'homeowner', 'car_age', 'age_oldest',\n",
    "       'age_youngest', 'married_couple', 'C_previous', 'duration_previous',\n",
    "       'state_AL', 'state_AR', 'state_CO', 'state_CT', 'state_DC', 'state_DE',\n",
    "       'state_FL', 'state_GA', 'state_IA', 'state_ID', 'state_IN', 'state_KS',\n",
    "       'state_KY', 'state_MD', 'state_ME', 'state_MO', 'state_MS', 'state_MT',\n",
    "       'state_ND', 'state_NE', 'state_NH', 'state_NM', 'state_NV', 'state_NY',\n",
    "       'state_OH', 'state_OK', 'state_OR', 'state_PA', 'state_RI', 'state_SD',\n",
    "       'state_TN', 'state_UT', 'state_WA', 'state_WI', 'state_WV', 'state_WY',\n",
    "       'car_value_a', 'car_value_b', 'car_value_c', 'car_value_d',\n",
    "       'car_value_e', 'car_value_f', 'car_value_g', 'car_value_h',\n",
    "       'car_value_i', 'A_rec0_0', 'A_rec0_1', 'A_rec0_2', 'B_rec0_0',\n",
    "       'B_rec0_1', 'C_rec0_1', 'C_rec0_2', 'C_rec0_3', 'C_rec0_4', 'D_rec0_1',\n",
    "       'D_rec0_2', 'D_rec0_3', 'E_rec0_0', 'E_rec0_1', 'F_rec0_0', 'F_rec0_1',\n",
    "       'F_rec0_2', 'F_rec0_3', 'G_rec0_1', 'G_rec0_2', 'G_rec0_3', 'G_rec0_4',\n",
    "       'cost', 'day']]"
   ]
  },
  {
   "cell_type": "code",
   "execution_count": 102,
   "metadata": {},
   "outputs": [
    {
     "data": {
      "text/plain": [
       "Index(['customer_ID', 'group_size', 'homeowner', 'car_age', 'age_oldest',\n",
       "       'age_youngest', 'married_couple', 'C_previous', 'duration_previous',\n",
       "       'state_AL', 'state_AR', 'state_CO', 'state_CT', 'state_DC', 'state_DE',\n",
       "       'state_FL', 'state_GA', 'state_IA', 'state_ID', 'state_IN', 'state_KS',\n",
       "       'state_KY', 'state_MD', 'state_ME', 'state_MO', 'state_MS', 'state_MT',\n",
       "       'state_ND', 'state_NE', 'state_NH', 'state_NM', 'state_NV', 'state_NY',\n",
       "       'state_OH', 'state_OK', 'state_OR', 'state_PA', 'state_RI', 'state_SD',\n",
       "       'state_TN', 'state_UT', 'state_WA', 'state_WI', 'state_WV', 'state_WY',\n",
       "       'car_value_a', 'car_value_b', 'car_value_c', 'car_value_d',\n",
       "       'car_value_e', 'car_value_f', 'car_value_g', 'car_value_h',\n",
       "       'car_value_i', 'A_rec0_0', 'A_rec0_1', 'A_rec0_2', 'B_rec0_0',\n",
       "       'B_rec0_1', 'C_rec0_1', 'C_rec0_2', 'C_rec0_3', 'C_rec0_4', 'D_rec0_1',\n",
       "       'D_rec0_2', 'D_rec0_3', 'E_rec0_0', 'E_rec0_1', 'F_rec0_0', 'F_rec0_1',\n",
       "       'F_rec0_2', 'F_rec0_3', 'G_rec0_1', 'G_rec0_2', 'G_rec0_3', 'G_rec0_4',\n",
       "       'cost', 'day'],\n",
       "      dtype='object')"
      ]
     },
     "execution_count": 102,
     "metadata": {},
     "output_type": "execute_result"
    }
   ],
   "source": [
    "test_final_df.columns"
   ]
  },
  {
   "cell_type": "code",
   "execution_count": 80,
   "metadata": {},
   "outputs": [
    {
     "name": "stderr",
     "output_type": "stream",
     "text": [
      "/colt/anaconda3/lib/python3.7/site-packages/pandas/core/frame.py:3940: SettingWithCopyWarning: \n",
      "A value is trying to be set on a copy of a slice from a DataFrame\n",
      "\n",
      "See the caveats in the documentation: http://pandas.pydata.org/pandas-docs/stable/indexing.html#indexing-view-versus-copy\n",
      "  errors=errors)\n"
     ]
    }
   ],
   "source": [
    "test_cust_id \n",
    "test_final_df.drop('customer_ID', axis = 1, inplace=True)"
   ]
  },
  {
   "cell_type": "code",
   "execution_count": 81,
   "metadata": {},
   "outputs": [],
   "source": [
    "y_pred_A = classifier_a.predict(test_final_df)\n",
    "y_pred_B = classifier_b.predict(test_final_df)\n",
    "y_pred_C = classifier_c.predict(test_final_df)\n",
    "y_pred_D = classifier_d.predict(test_final_df)\n",
    "y_pred_E = classifier_e.predict(test_final_df)\n",
    "y_pred_F = classifier_f.predict(test_final_df)\n",
    "y_pred_G = classifier_g.predict(test_final_df)"
   ]
  },
  {
   "cell_type": "code",
   "execution_count": 86,
   "metadata": {},
   "outputs": [],
   "source": [
    "fianl_test_predictions = pd.DataFrame(y_pred_A).reset_index(drop = True).astype(str)+pd.DataFrame(y_pred_B).reset_index(drop = True).astype(str) + pd.DataFrame(y_pred_C).reset_index(drop = True).astype(str)+pd.DataFrame(y_pred_D).reset_index(drop = True).astype(str)+ pd.DataFrame(y_pred_E).reset_index(drop = True).astype(str)+pd.DataFrame(y_pred_F).reset_index(drop = True).astype(str)+ pd.DataFrame(y_pred_G).reset_index(drop = True).astype(str)"
   ]
  },
  {
   "cell_type": "code",
   "execution_count": 87,
   "metadata": {},
   "outputs": [
    {
     "data": {
      "text/html": [
       "<div>\n",
       "<style scoped>\n",
       "    .dataframe tbody tr th:only-of-type {\n",
       "        vertical-align: middle;\n",
       "    }\n",
       "\n",
       "    .dataframe tbody tr th {\n",
       "        vertical-align: top;\n",
       "    }\n",
       "\n",
       "    .dataframe thead th {\n",
       "        text-align: right;\n",
       "    }\n",
       "</style>\n",
       "<table border=\"1\" class=\"dataframe\">\n",
       "  <thead>\n",
       "    <tr style=\"text-align: right;\">\n",
       "      <th></th>\n",
       "      <th>0</th>\n",
       "    </tr>\n",
       "  </thead>\n",
       "  <tbody>\n",
       "    <tr>\n",
       "      <th>0</th>\n",
       "      <td>2113032</td>\n",
       "    </tr>\n",
       "    <tr>\n",
       "      <th>1</th>\n",
       "      <td>2023122</td>\n",
       "    </tr>\n",
       "    <tr>\n",
       "      <th>2</th>\n",
       "      <td>1021022</td>\n",
       "    </tr>\n",
       "    <tr>\n",
       "      <th>3</th>\n",
       "      <td>2011022</td>\n",
       "    </tr>\n",
       "    <tr>\n",
       "      <th>4</th>\n",
       "      <td>0011001</td>\n",
       "    </tr>\n",
       "  </tbody>\n",
       "</table>\n",
       "</div>"
      ],
      "text/plain": [
       "         0\n",
       "0  2113032\n",
       "1  2023122\n",
       "2  1021022\n",
       "3  2011022\n",
       "4  0011001"
      ]
     },
     "execution_count": 87,
     "metadata": {},
     "output_type": "execute_result"
    }
   ],
   "source": [
    "fianl_test_predictions.head()"
   ]
  },
  {
   "cell_type": "code",
   "execution_count": 88,
   "metadata": {},
   "outputs": [
    {
     "ename": "KeyError",
     "evalue": "'customer_ID'",
     "output_type": "error",
     "traceback": [
      "\u001b[0;31m---------------------------------------------------------------------------\u001b[0m",
      "\u001b[0;31mKeyError\u001b[0m                                  Traceback (most recent call last)",
      "\u001b[0;32m/colt/anaconda3/lib/python3.7/site-packages/pandas/core/indexes/base.py\u001b[0m in \u001b[0;36mget_loc\u001b[0;34m(self, key, method, tolerance)\u001b[0m\n\u001b[1;32m   2656\u001b[0m             \u001b[0;32mtry\u001b[0m\u001b[0;34m:\u001b[0m\u001b[0;34m\u001b[0m\u001b[0;34m\u001b[0m\u001b[0m\n\u001b[0;32m-> 2657\u001b[0;31m                 \u001b[0;32mreturn\u001b[0m \u001b[0mself\u001b[0m\u001b[0;34m.\u001b[0m\u001b[0m_engine\u001b[0m\u001b[0;34m.\u001b[0m\u001b[0mget_loc\u001b[0m\u001b[0;34m(\u001b[0m\u001b[0mkey\u001b[0m\u001b[0;34m)\u001b[0m\u001b[0;34m\u001b[0m\u001b[0;34m\u001b[0m\u001b[0m\n\u001b[0m\u001b[1;32m   2658\u001b[0m             \u001b[0;32mexcept\u001b[0m \u001b[0mKeyError\u001b[0m\u001b[0;34m:\u001b[0m\u001b[0;34m\u001b[0m\u001b[0;34m\u001b[0m\u001b[0m\n",
      "\u001b[0;32mpandas/_libs/index.pyx\u001b[0m in \u001b[0;36mpandas._libs.index.IndexEngine.get_loc\u001b[0;34m()\u001b[0m\n",
      "\u001b[0;32mpandas/_libs/index.pyx\u001b[0m in \u001b[0;36mpandas._libs.index.IndexEngine.get_loc\u001b[0;34m()\u001b[0m\n",
      "\u001b[0;32mpandas/_libs/hashtable_class_helper.pxi\u001b[0m in \u001b[0;36mpandas._libs.hashtable.PyObjectHashTable.get_item\u001b[0;34m()\u001b[0m\n",
      "\u001b[0;32mpandas/_libs/hashtable_class_helper.pxi\u001b[0m in \u001b[0;36mpandas._libs.hashtable.PyObjectHashTable.get_item\u001b[0;34m()\u001b[0m\n",
      "\u001b[0;31mKeyError\u001b[0m: 'customer_ID'",
      "\nDuring handling of the above exception, another exception occurred:\n",
      "\u001b[0;31mKeyError\u001b[0m                                  Traceback (most recent call last)",
      "\u001b[0;32m<ipython-input-88-bb8251970f60>\u001b[0m in \u001b[0;36m<module>\u001b[0;34m\u001b[0m\n\u001b[0;32m----> 1\u001b[0;31m \u001b[0mfinal_submission_data\u001b[0m \u001b[0;34m=\u001b[0m \u001b[0mpd\u001b[0m\u001b[0;34m.\u001b[0m\u001b[0mconcat\u001b[0m\u001b[0;34m(\u001b[0m\u001b[0;34m[\u001b[0m\u001b[0mtest_final_df\u001b[0m\u001b[0;34m[\u001b[0m\u001b[0;34m'customer_ID'\u001b[0m\u001b[0;34m]\u001b[0m\u001b[0;34m,\u001b[0m \u001b[0mfianl_test_predictions\u001b[0m\u001b[0;34m]\u001b[0m\u001b[0;34m,\u001b[0m \u001b[0maxis\u001b[0m \u001b[0;34m=\u001b[0m \u001b[0;36m1\u001b[0m\u001b[0;34m)\u001b[0m\u001b[0;34m\u001b[0m\u001b[0;34m\u001b[0m\u001b[0m\n\u001b[0m\u001b[1;32m      2\u001b[0m \u001b[0mfinal_submission_data\u001b[0m\u001b[0;34m.\u001b[0m\u001b[0mcolumns\u001b[0m \u001b[0;34m=\u001b[0m \u001b[0;34m[\u001b[0m\u001b[0;34m'customer_ID'\u001b[0m\u001b[0;34m,\u001b[0m \u001b[0;34m'Predicted'\u001b[0m\u001b[0;34m]\u001b[0m\u001b[0;34m\u001b[0m\u001b[0;34m\u001b[0m\u001b[0m\n",
      "\u001b[0;32m/colt/anaconda3/lib/python3.7/site-packages/pandas/core/frame.py\u001b[0m in \u001b[0;36m__getitem__\u001b[0;34m(self, key)\u001b[0m\n\u001b[1;32m   2925\u001b[0m             \u001b[0;32mif\u001b[0m \u001b[0mself\u001b[0m\u001b[0;34m.\u001b[0m\u001b[0mcolumns\u001b[0m\u001b[0;34m.\u001b[0m\u001b[0mnlevels\u001b[0m \u001b[0;34m>\u001b[0m \u001b[0;36m1\u001b[0m\u001b[0;34m:\u001b[0m\u001b[0;34m\u001b[0m\u001b[0;34m\u001b[0m\u001b[0m\n\u001b[1;32m   2926\u001b[0m                 \u001b[0;32mreturn\u001b[0m \u001b[0mself\u001b[0m\u001b[0;34m.\u001b[0m\u001b[0m_getitem_multilevel\u001b[0m\u001b[0;34m(\u001b[0m\u001b[0mkey\u001b[0m\u001b[0;34m)\u001b[0m\u001b[0;34m\u001b[0m\u001b[0;34m\u001b[0m\u001b[0m\n\u001b[0;32m-> 2927\u001b[0;31m             \u001b[0mindexer\u001b[0m \u001b[0;34m=\u001b[0m \u001b[0mself\u001b[0m\u001b[0;34m.\u001b[0m\u001b[0mcolumns\u001b[0m\u001b[0;34m.\u001b[0m\u001b[0mget_loc\u001b[0m\u001b[0;34m(\u001b[0m\u001b[0mkey\u001b[0m\u001b[0;34m)\u001b[0m\u001b[0;34m\u001b[0m\u001b[0;34m\u001b[0m\u001b[0m\n\u001b[0m\u001b[1;32m   2928\u001b[0m             \u001b[0;32mif\u001b[0m \u001b[0mis_integer\u001b[0m\u001b[0;34m(\u001b[0m\u001b[0mindexer\u001b[0m\u001b[0;34m)\u001b[0m\u001b[0;34m:\u001b[0m\u001b[0;34m\u001b[0m\u001b[0;34m\u001b[0m\u001b[0m\n\u001b[1;32m   2929\u001b[0m                 \u001b[0mindexer\u001b[0m \u001b[0;34m=\u001b[0m \u001b[0;34m[\u001b[0m\u001b[0mindexer\u001b[0m\u001b[0;34m]\u001b[0m\u001b[0;34m\u001b[0m\u001b[0;34m\u001b[0m\u001b[0m\n",
      "\u001b[0;32m/colt/anaconda3/lib/python3.7/site-packages/pandas/core/indexes/base.py\u001b[0m in \u001b[0;36mget_loc\u001b[0;34m(self, key, method, tolerance)\u001b[0m\n\u001b[1;32m   2657\u001b[0m                 \u001b[0;32mreturn\u001b[0m \u001b[0mself\u001b[0m\u001b[0;34m.\u001b[0m\u001b[0m_engine\u001b[0m\u001b[0;34m.\u001b[0m\u001b[0mget_loc\u001b[0m\u001b[0;34m(\u001b[0m\u001b[0mkey\u001b[0m\u001b[0;34m)\u001b[0m\u001b[0;34m\u001b[0m\u001b[0;34m\u001b[0m\u001b[0m\n\u001b[1;32m   2658\u001b[0m             \u001b[0;32mexcept\u001b[0m \u001b[0mKeyError\u001b[0m\u001b[0;34m:\u001b[0m\u001b[0;34m\u001b[0m\u001b[0;34m\u001b[0m\u001b[0m\n\u001b[0;32m-> 2659\u001b[0;31m                 \u001b[0;32mreturn\u001b[0m \u001b[0mself\u001b[0m\u001b[0;34m.\u001b[0m\u001b[0m_engine\u001b[0m\u001b[0;34m.\u001b[0m\u001b[0mget_loc\u001b[0m\u001b[0;34m(\u001b[0m\u001b[0mself\u001b[0m\u001b[0;34m.\u001b[0m\u001b[0m_maybe_cast_indexer\u001b[0m\u001b[0;34m(\u001b[0m\u001b[0mkey\u001b[0m\u001b[0;34m)\u001b[0m\u001b[0;34m)\u001b[0m\u001b[0;34m\u001b[0m\u001b[0;34m\u001b[0m\u001b[0m\n\u001b[0m\u001b[1;32m   2660\u001b[0m         \u001b[0mindexer\u001b[0m \u001b[0;34m=\u001b[0m \u001b[0mself\u001b[0m\u001b[0;34m.\u001b[0m\u001b[0mget_indexer\u001b[0m\u001b[0;34m(\u001b[0m\u001b[0;34m[\u001b[0m\u001b[0mkey\u001b[0m\u001b[0;34m]\u001b[0m\u001b[0;34m,\u001b[0m \u001b[0mmethod\u001b[0m\u001b[0;34m=\u001b[0m\u001b[0mmethod\u001b[0m\u001b[0;34m,\u001b[0m \u001b[0mtolerance\u001b[0m\u001b[0;34m=\u001b[0m\u001b[0mtolerance\u001b[0m\u001b[0;34m)\u001b[0m\u001b[0;34m\u001b[0m\u001b[0;34m\u001b[0m\u001b[0m\n\u001b[1;32m   2661\u001b[0m         \u001b[0;32mif\u001b[0m \u001b[0mindexer\u001b[0m\u001b[0;34m.\u001b[0m\u001b[0mndim\u001b[0m \u001b[0;34m>\u001b[0m \u001b[0;36m1\u001b[0m \u001b[0;32mor\u001b[0m \u001b[0mindexer\u001b[0m\u001b[0;34m.\u001b[0m\u001b[0msize\u001b[0m \u001b[0;34m>\u001b[0m \u001b[0;36m1\u001b[0m\u001b[0;34m:\u001b[0m\u001b[0;34m\u001b[0m\u001b[0;34m\u001b[0m\u001b[0m\n",
      "\u001b[0;32mpandas/_libs/index.pyx\u001b[0m in \u001b[0;36mpandas._libs.index.IndexEngine.get_loc\u001b[0;34m()\u001b[0m\n",
      "\u001b[0;32mpandas/_libs/index.pyx\u001b[0m in \u001b[0;36mpandas._libs.index.IndexEngine.get_loc\u001b[0;34m()\u001b[0m\n",
      "\u001b[0;32mpandas/_libs/hashtable_class_helper.pxi\u001b[0m in \u001b[0;36mpandas._libs.hashtable.PyObjectHashTable.get_item\u001b[0;34m()\u001b[0m\n",
      "\u001b[0;32mpandas/_libs/hashtable_class_helper.pxi\u001b[0m in \u001b[0;36mpandas._libs.hashtable.PyObjectHashTable.get_item\u001b[0;34m()\u001b[0m\n",
      "\u001b[0;31mKeyError\u001b[0m: 'customer_ID'"
     ]
    }
   ],
   "source": [
    "final_submission_data = pd.concat([test_final_df['customer_ID'], fianl_test_predictions], axis = 1)\n",
    "final_submission_data.columns = ['customer_ID', 'Predicted']"
   ]
  },
  {
   "cell_type": "code",
   "execution_count": 84,
   "metadata": {},
   "outputs": [
    {
     "ename": "NameError",
     "evalue": "name 'final_submission_data' is not defined",
     "output_type": "error",
     "traceback": [
      "\u001b[0;31m---------------------------------------------------------------------------\u001b[0m",
      "\u001b[0;31mNameError\u001b[0m                                 Traceback (most recent call last)",
      "\u001b[0;32m<ipython-input-84-0f40c3092d35>\u001b[0m in \u001b[0;36m<module>\u001b[0;34m\u001b[0m\n\u001b[0;32m----> 1\u001b[0;31m \u001b[0mfinal_submission_data\u001b[0m\u001b[0;34m[\u001b[0m\u001b[0;34m'Predicted'\u001b[0m\u001b[0;34m]\u001b[0m\u001b[0;34m.\u001b[0m\u001b[0mastype\u001b[0m\u001b[0;34m(\u001b[0m\u001b[0mstr\u001b[0m\u001b[0;34m)\u001b[0m\u001b[0;34m\u001b[0m\u001b[0;34m\u001b[0m\u001b[0m\n\u001b[0m",
      "\u001b[0;31mNameError\u001b[0m: name 'final_submission_data' is not defined"
     ]
    }
   ],
   "source": [
    "final_submission_data['Predicted'].astype(str)"
   ]
  },
  {
   "cell_type": "code",
   "execution_count": 399,
   "metadata": {},
   "outputs": [],
   "source": [
    "final_submission_data.to_csv('Final_Submission.csv')"
   ]
  },
  {
   "cell_type": "code",
   "execution_count": null,
   "metadata": {},
   "outputs": [],
   "source": []
  }
 ],
 "metadata": {
  "kernelspec": {
   "display_name": "Python 3",
   "language": "python",
   "name": "python3"
  },
  "language_info": {
   "codemirror_mode": {
    "name": "ipython",
    "version": 3
   },
   "file_extension": ".py",
   "mimetype": "text/x-python",
   "name": "python",
   "nbconvert_exporter": "python",
   "pygments_lexer": "ipython3",
   "version": "3.7.3"
  },
  "toc": {
   "base_numbering": 1,
   "nav_menu": {},
   "number_sections": true,
   "sideBar": true,
   "skip_h1_title": false,
   "title_cell": "Table of Contents",
   "title_sidebar": "Contents",
   "toc_cell": false,
   "toc_position": {},
   "toc_section_display": true,
   "toc_window_display": false
  }
 },
 "nbformat": 4,
 "nbformat_minor": 2
}
